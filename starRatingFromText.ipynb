{
 "cells": [
  {
   "cell_type": "code",
   "execution_count": 1,
   "metadata": {},
   "outputs": [
    {
     "name": "stdout",
     "output_type": "stream",
     "text": [
      "10000\n",
      "10000\n"
     ]
    }
   ],
   "source": [
    "import json\n",
    "\n",
    "#To load the data from disk into memory\n",
    "#review file imported\n",
    "with open(\"data/review_sample_cleveland.json\") as f:\n",
    "    reviews = f.read().strip().split(\"\\n\")\n",
    "    \n",
    "reviews = [json.loads(review) for review in reviews] \n",
    "reviews=reviews[:10000]\n",
    "#extracting stars and text in two different list for each review\n",
    "#We now have two arrays of data: the text of each review and the respective star-rating. \n",
    "#Our task is to train a system that can predict the star-rating from looking at only the review text\n",
    "texts = [review['text'] for review in reviews]\n",
    "stars = [review['stars'] for review in reviews]\n",
    "print len(texts)\n",
    "print len(stars)"
   ]
  },
  {
   "cell_type": "markdown",
   "metadata": {},
   "source": [
    "A complication is that our dataset is unbalanced. We have more examples of texts that typically have a 5-star rating than texts that typically have a 2-star rating. Because of the probabilistic models at the base of most machine learning classifiers, we’ll get less biased predictions if we train the system on balanced data. This means that ideally we should have the same number of examples of each review type."
   ]
  },
  {
   "cell_type": "code",
   "execution_count": 2,
   "metadata": {},
   "outputs": [],
   "source": [
    "from collections import Counter\n",
    "def balance_classes(xs, ys):\n",
    "    \"\"\"Undersample xs, ys to balance classes.\"\"\"\n",
    "    freqs = Counter(ys)\n",
    "#creating a counter so that number of reviews in each category(1 star, 2 star etc) are equal \n",
    "# the least common class is the maximum number we want for all classes\n",
    "#In machine learning, it’s common to separate our data into features and labels. \n",
    "#In our case, the review texts (the input data) will be converted into features and the star ratings (what we are trying to predict) are the labels. \n",
    "#You’ll often see these two categories referred to as X and Y respectively. \n",
    "#Adding the following method to a cell will allow us to balance a dataset by removing over-represented samples from the two lists.\n",
    "    max_allowable = freqs.most_common()[-1][1]\n",
    "    num_added = {clss: 0 for clss in freqs.keys()}\n",
    "    new_ys = []\n",
    "    new_xs = []\n",
    "    for i, y in enumerate(ys):\n",
    "        if num_added[y] < max_allowable:\n",
    "            new_ys.append(y)\n",
    "            new_xs.append(xs[i])\n",
    "            num_added[y] += 1\n",
    "    return new_xs, new_ys"
   ]
  },
  {
   "cell_type": "code",
   "execution_count": 3,
   "metadata": {},
   "outputs": [
    {
     "name": "stdout",
     "output_type": "stream",
     "text": [
      "Counter({5: 3765, 4: 2704, 3: 1316, 1: 1307, 2: 908})\n",
      "Counter({1: 908, 2: 908, 3: 908, 4: 908, 5: 908})\n"
     ]
    }
   ],
   "source": [
    "print(Counter(stars))\n",
    "balanced_x, balanced_y = balance_classes(texts, stars)\n",
    "print(Counter(balanced_y))"
   ]
  },
  {
   "cell_type": "markdown",
   "metadata": {},
   "source": [
    "You can see above that in the original distribution, we had 8074 2-star reviews and 36275 5-star reviews. After balancing, we have 8074 of each class of review. We’re now ready to prepare our data for classification."
   ]
  },
  {
   "cell_type": "markdown",
   "metadata": {},
   "source": [
    "# Vectorising Data and creating Features"
   ]
  },
  {
   "cell_type": "markdown",
   "metadata": {},
   "source": [
    "Computers deal with numbers much better than they do with text, so we need a meaningful way to convert all the text data into matrices of numbers.\n",
    "\n",
    "### CountVectoriser: \n",
    "A straightforward (and oft-used) method for doing this is to count how often words appear in a piece of text and represent each text with an array of word-frequencies.The array would be quite large and sparse, containing one element for every possible word.\n",
    "\n",
    "### TF-IDF:\n",
    "A slightly more sophisticated approach would be to use Term Frequency Inverse Document Frequency (TF-IDF) vectors. This approach comes from the idea that most frequent words in individual texts are important to that text but most common words in entire dataset, such as 'the' aren’t very important, while less common words such as Namibia are more important. TF-IDF therefore normalises the count of each word in each text by the number of times that that word occurs in all of the texts. If a word occurs in nearly all of the texts, we deem it to be less significant. If it only appears in several texts, we regard it as more important."
   ]
  },
  {
   "cell_type": "markdown",
   "metadata": {},
   "source": [
    "### n-grams:\n",
    "Words often mean very different things when we combine them in different ways. We will expect our learning algorithm to learn that a review containing the words bad is likely to be negative, while one containing the word great is likely to be positive. However, reviews containing phrases such as “… and then they gave us a full refund. Not bad!” or “The food was not great” will trip up our system if it only considers words individually.\n",
    "\n",
    "When we break a text into n-grams, we consider several words grouped together to be a single word. “The food was not great” would be represented using bi-grams as (the food, food was, was not, not great), and this would allow our system to learn that not great is a typically negative statement because it appears in many negative reviews.\n",
    "\n",
    "For our analysis, we’ll stick with single words (also called unigrams) and bigrams (two words at a time)."
   ]
  },
  {
   "cell_type": "markdown",
   "metadata": {},
   "source": [
    "## TF-IDF Vectoriser:\n",
    "Luckily scikit-learn implements all of this for us: the TF-IDF algorithm along with n-grams and tokenization (splitting the text into individual words). To turn all of our reviews into vectors, run the following code (which took roughly 22 minutes to complete on an intel core i5):"
   ]
  },
  {
   "cell_type": "code",
   "execution_count": 4,
   "metadata": {
    "scrolled": true
   },
   "outputs": [
    {
     "name": "stdout",
     "output_type": "stream",
     "text": [
      "0:00:02.389644\n",
      "(4540, 500)\n"
     ]
    }
   ],
   "source": [
    "from sklearn.feature_extraction.text import TfidfVectorizer\n",
    "from datetime import datetime\n",
    "# This vectorizer breaks text into single words and bi-grams\n",
    "# and then calculates the TF-IDF representation\n",
    "vectorizer = TfidfVectorizer(stop_words='english',max_features=500,ngram_range=(1,2))\n",
    "t1 = datetime.now()\n",
    "\n",
    "# the 'fit' builds up the vocabulary from all the reviews\n",
    "# while the 'transform' step turns each indivdual text into\n",
    "# a matrix of numbers.\n",
    "vectors = vectorizer.fit_transform(balanced_x)\n",
    "print(datetime.now() - t1)\n",
    "print vectors.shape"
   ]
  },
  {
   "cell_type": "markdown",
   "metadata": {},
   "source": [
    "# Classification Models"
   ]
  },
  {
   "cell_type": "code",
   "execution_count": 5,
   "metadata": {},
   "outputs": [],
   "source": [
    "from sklearn.model_selection import train_test_split\n",
    "#model to train 66% and test 33%\n",
    "X_train, X_test, y_train, y_test = train_test_split(vectors, balanced_y, test_size=0.33, random_state=42)"
   ]
  },
  {
   "cell_type": "markdown",
   "metadata": {},
   "source": [
    "The classifier we’ll use is a Linear Support Vector Machine (SVM), which has been shown to perform well on several text classifications tasks."
   ]
  },
  {
   "cell_type": "code",
   "execution_count": 6,
   "metadata": {},
   "outputs": [
    {
     "name": "stdout",
     "output_type": "stream",
     "text": [
      "0:00:04.495602\n"
     ]
    }
   ],
   "source": [
    "from sklearn.svm import SVC\n",
    "\n",
    "# initialise the SVM classifier\n",
    "classifier = SVC()\n",
    "\n",
    "# train the classifier\n",
    "t1 = datetime.now()\n",
    "classifier.fit(X_train, y_train)\n",
    "print(datetime.now() - t1)"
   ]
  },
  {
   "cell_type": "markdown",
   "metadata": {},
   "source": [
    "next, The first line of the output displays the ratings our classifier predicted for the first ten reviews in our dataset,and the second line shows the actual ratings of the same reviews."
   ]
  },
  {
   "cell_type": "code",
   "execution_count": 7,
   "metadata": {},
   "outputs": [
    {
     "name": "stdout",
     "output_type": "stream",
     "text": [
      "[3, 3, 3, 3, 3, 3, 3, 3, 3, 3]\n",
      "[4, 5, 5, 3, 4, 4, 2, 3, 4, 1]\n"
     ]
    }
   ],
   "source": [
    "preds = classifier.predict(X_test)\n",
    "print(list(preds[:10]))\n",
    "print(y_test[:10])\n",
    "# print (X_test[0])"
   ]
  },
  {
   "cell_type": "code",
   "execution_count": 8,
   "metadata": {},
   "outputs": [
    {
     "name": "stdout",
     "output_type": "stream",
     "text": [
      "0.18345563709139426\n"
     ]
    }
   ],
   "source": [
    "#predicting accuracy score\n",
    "from sklearn.metrics import accuracy_score\n",
    "print(accuracy_score(y_test, preds))"
   ]
  },
  {
   "cell_type": "markdown",
   "metadata": {},
   "source": [
    "## KNN"
   ]
  },
  {
   "cell_type": "code",
   "execution_count": 9,
   "metadata": {},
   "outputs": [
    {
     "name": "stdout",
     "output_type": "stream",
     "text": [
      "Accuracy of nearest neighbor classifier on test set: 0.43\n"
     ]
    }
   ],
   "source": [
    "#knn classfrom sklearn.neighbors import KNeighborsClassifierifier\n",
    "from sklearn.neighbors import KNeighborsClassifier\n",
    "\n",
    "knn = KNeighborsClassifier(n_neighbors=10)\n",
    "knn.fit(X_train, y_train)\n",
    "y_pred = knn.predict(X_test)\n",
    "\n",
    "from sklearn import metrics\n",
    "print('Accuracy of nearest neighbor classifier on test set: {:.2f}'.format(knn.score(X_test, y_test)))"
   ]
  },
  {
   "cell_type": "markdown",
   "metadata": {},
   "source": [
    "## logistic Regression"
   ]
  },
  {
   "cell_type": "code",
   "execution_count": 10,
   "metadata": {},
   "outputs": [
    {
     "data": {
      "text/plain": [
       "LogisticRegression(C=1.0, class_weight=None, dual=False, fit_intercept=True,\n",
       "          intercept_scaling=1, max_iter=100, multi_class='ovr', n_jobs=1,\n",
       "          penalty='l2', random_state=None, solver='liblinear', tol=0.0001,\n",
       "          verbose=0, warm_start=False)"
      ]
     },
     "execution_count": 10,
     "metadata": {},
     "output_type": "execute_result"
    }
   ],
   "source": [
    "# import the class\n",
    "from sklearn.linear_model import LogisticRegression\n",
    "\n",
    "# instantiate the model (using the default parameters)\n",
    "logreg = LogisticRegression()\n",
    "\n",
    "# fit the model with data\n",
    "logreg.fit(X_train, y_train)"
   ]
  },
  {
   "cell_type": "code",
   "execution_count": 11,
   "metadata": {},
   "outputs": [
    {
     "name": "stdout",
     "output_type": "stream",
     "text": [
      "Accuracy of logistic regression classifier on test set: 0.51\n"
     ]
    }
   ],
   "source": [
    "from sklearn import metrics\n",
    "y_pred = logreg.predict(X_test)\n",
    "print('Accuracy of logistic regression classifier on test set: {:.2f}'.format(logreg.score(X_test, y_test)))"
   ]
  },
  {
   "cell_type": "markdown",
   "metadata": {},
   "source": [
    "## Multinomial Naive Bayes"
   ]
  },
  {
   "cell_type": "code",
   "execution_count": 12,
   "metadata": {},
   "outputs": [
    {
     "data": {
      "text/plain": [
       "MultinomialNB(alpha=1.0, class_prior=None, fit_prior=True)"
      ]
     },
     "execution_count": 12,
     "metadata": {},
     "output_type": "execute_result"
    }
   ],
   "source": [
    "from sklearn.naive_bayes import MultinomialNB\n",
    "clf=MultinomialNB()\n",
    "X_train,X_test,y_train,y_test= train_test_split(vectors, balanced_y,test_size=0.3,random_state=0)\n",
    "\n",
    "clf.fit(X_train,y_train)"
   ]
  },
  {
   "cell_type": "code",
   "execution_count": 13,
   "metadata": {},
   "outputs": [
    {
     "name": "stdout",
     "output_type": "stream",
     "text": [
      "Accuracy of Multinomial on test set: 0.51\n"
     ]
    }
   ],
   "source": [
    "from sklearn.metrics import confusion_matrix\n",
    "from sklearn.metrics import classification_report\n",
    "import matplotlib.pyplot as plt\n",
    "\n",
    "y_pred=clf.predict(X_test)\n",
    "print('Accuracy of Multinomial on test set: {:.2f}'.format(clf.score(X_test, y_test)))"
   ]
  },
  {
   "cell_type": "code",
   "execution_count": 14,
   "metadata": {},
   "outputs": [],
   "source": [
    "#Classification Models\n",
    "names = []\n",
    "params = []\n",
    "results = []\n",
    "import numpy as np\n",
    "from sklearn.model_selection import GridSearchCV\n",
    "from sklearn.neighbors import KNeighborsClassifier\n",
    "from sklearn.linear_model import LogisticRegression\n",
    "from sklearn.svm import SVC\n",
    "from sklearn.model_selection import train_test_split"
   ]
  },
  {
   "cell_type": "code",
   "execution_count": 15,
   "metadata": {},
   "outputs": [
    {
     "name": "stdout",
     "output_type": "stream",
     "text": [
      "Accuracy of logistic regression classifier on test set: 0.51\n",
      "45.92511013215859\n",
      "{'penalty': 'l1', 'C': 1.0}\n"
     ]
    }
   ],
   "source": [
    "#Logistic Regression\n",
    "logreg = LogisticRegression()\n",
    "#model to train 66% and test 33%\n",
    "X_train, X_test, y_train, y_test = train_test_split(vectors, balanced_y, test_size=0.33, random_state=42)\n",
    "# fit the model with data\n",
    "logreg.fit(X_train, y_train)\n",
    "from sklearn import metrics\n",
    "y_pred = logreg.predict(X_test)\n",
    "print('Accuracy of logistic regression classifier on test set: {:.2f}'.format(logreg.score(X_test, y_test)))\n",
    "\n",
    "grid={\"C\":np.logspace(-3,3,7), \"penalty\":[\"l1\",\"l2\"]}# l1 lasso l2 ridge\n",
    "gd_sr = GridSearchCV(estimator=logreg,  \n",
    "                     param_grid=grid,\n",
    "                     scoring='accuracy',\n",
    "                     cv=4,\n",
    "                     n_jobs=-1)\n",
    "gd_sr.fit(vectors, balanced_y)\n",
    "results.append(100*gd_sr.best_score_)\n",
    "params.append(gd_sr.best_params_)\n",
    "names.append('logReg')\n",
    "print results[0]\n",
    "print params[0]"
   ]
  },
  {
   "cell_type": "code",
   "execution_count": 16,
   "metadata": {},
   "outputs": [
    {
     "name": "stdout",
     "output_type": "stream",
     "text": [
      "45.17621145374449\n",
      "{'C': 100.0}\n"
     ]
    }
   ],
   "source": [
    "#SVC\n",
    "grid_param = {'C': [1e0, 1e1, 1e2, 1e3]}\n",
    "from sklearn.svm import SVC\n",
    "clf3 = SVC()\n",
    "gd_sr = GridSearchCV(estimator=clf3,  \n",
    "                     param_grid=grid_param,\n",
    "                     scoring='accuracy',\n",
    "                     cv=4,\n",
    "                     n_jobs=-1)\n",
    "gd_sr.fit(vectors, balanced_y)\n",
    "results.append(100*gd_sr.best_score_)\n",
    "params.append(gd_sr.best_params_)\n",
    "names.append('SVC')\n",
    "print results[1]\n",
    "print params[1]"
   ]
  },
  {
   "cell_type": "code",
   "execution_count": 17,
   "metadata": {},
   "outputs": [
    {
     "name": "stderr",
     "output_type": "stream",
     "text": [
      "/usr/local/lib/python2.7/dist-packages/sklearn/neighbors/base.py:212: UserWarning: cannot use tree with sparse input: using brute force\n",
      "  warnings.warn(\"cannot use tree with sparse input: \"\n",
      "/usr/local/lib/python2.7/dist-packages/sklearn/neighbors/base.py:212: UserWarning: cannot use tree with sparse input: using brute force\n",
      "  warnings.warn(\"cannot use tree with sparse input: \"\n",
      "/usr/local/lib/python2.7/dist-packages/sklearn/neighbors/base.py:212: UserWarning: cannot use tree with sparse input: using brute force\n",
      "  warnings.warn(\"cannot use tree with sparse input: \"\n",
      "/usr/local/lib/python2.7/dist-packages/sklearn/neighbors/base.py:212: UserWarning: cannot use tree with sparse input: using brute force\n",
      "  warnings.warn(\"cannot use tree with sparse input: \"\n"
     ]
    },
    {
     "name": "stdout",
     "output_type": "stream",
     "text": [
      "35.50660792951542\n",
      "{'n_neighbors': 10, 'leaf_size': 2}\n"
     ]
    },
    {
     "name": "stderr",
     "output_type": "stream",
     "text": [
      "/usr/local/lib/python2.7/dist-packages/sklearn/neighbors/base.py:212: UserWarning: cannot use tree with sparse input: using brute force\n",
      "  warnings.warn(\"cannot use tree with sparse input: \"\n"
     ]
    }
   ],
   "source": [
    "#KNN\n",
    "grid_param = {'n_neighbors':[3,10],\n",
    "          'leaf_size':[2,5]}\n",
    "from sklearn.neighbors import KNeighborsClassifier\n",
    "clf1 = KNeighborsClassifier(n_neighbors=3,algorithm='ball_tree')\n",
    "gd_sr = GridSearchCV(estimator=clf1,  \n",
    "                     param_grid=grid_param,\n",
    "                     scoring='accuracy',\n",
    "                     cv=4,\n",
    "                     n_jobs=-1)\n",
    "gd_sr.fit(vectors, balanced_y)\n",
    "results.append(100*gd_sr.best_score_)\n",
    "params.append(gd_sr.best_params_)\n",
    "names.append('KNN')\n",
    "print results[2]\n",
    "print params[2]"
   ]
  },
  {
   "cell_type": "code",
   "execution_count": 18,
   "metadata": {},
   "outputs": [
    {
     "name": "stdout",
     "output_type": "stream",
     "text": [
      "   models  accuracy\n",
      "0  logReg  45.92511\n"
     ]
    },
    {
     "data": {
      "image/png": "[encoded data removed]",
      "text/plain": [
       "<matplotlib.figure.Figure at 0x7f1c0bc3e590>"
      ]
     },
     "metadata": {
      "needs_background": "light"
     },
     "output_type": "display_data"
    }
   ],
   "source": [
    "# GridSearch to see if optimizing the parameters will improve (lower) the RMSE\n",
    "import pandas as pd\n",
    "import seaborn as sns\n",
    "import matplotlib\n",
    "import matplotlib.pyplot as plt\n",
    "result_df = pd.DataFrame({'models': names, 'results': results})\n",
    "result_df.columns = ['models', 'accuracy']\n",
    "result_df.sort_values(by='accuracy', ascending=True, inplace=True)\n",
    "print result_df.tail(1)\n",
    "\n",
    "# plot results\n",
    "sns.barplot(x='models', y='accuracy', data=result_df);"
   ]
  },
  {
   "cell_type": "markdown",
   "metadata": {},
   "source": [
    "# #Regression Model"
   ]
  },
  {
   "cell_type": "markdown",
   "metadata": {},
   "source": [
    "## Linear Regression model"
   ]
  },
  {
   "cell_type": "code",
   "execution_count": 19,
   "metadata": {},
   "outputs": [
    {
     "name": "stdout",
     "output_type": "stream",
     "text": [
      "(3632, 500)\n",
      "(908, 500)\n"
     ]
    }
   ],
   "source": [
    "# applying linear regression model by giving X as concat matrix and y as stars column\n",
    "names = []\n",
    "params = []\n",
    "results = []\n",
    "# import the class\n",
    "from sklearn.linear_model import LinearRegression\n",
    "from sklearn.model_selection import train_test_split\n",
    "from sklearn import metrics\n",
    "\n",
    "X=vectors\n",
    "y=balanced_y\n",
    "\n",
    "#dividing the data in to training and test dataset\n",
    "X_train, X_test, y_train, y_test = train_test_split(X,y,test_size=.2,random_state =1)\n",
    "print(X_train.shape)\n",
    "print(X_test.shape)"
   ]
  },
  {
   "cell_type": "code",
   "execution_count": 20,
   "metadata": {},
   "outputs": [
    {
     "name": "stdout",
     "output_type": "stream",
     "text": [
      "Final score (MSE): 0.967331997668\n",
      "Final score (RMSE): 0.983530374553\n",
      "1.0990747124618954\n",
      "{'normalize': True, 'fit_intercept': True}\n"
     ]
    }
   ],
   "source": [
    "from sklearn.tree import DecisionTreeRegressor\n",
    "from sklearn.svm import SVR\n",
    "from sklearn.linear_model import LinearRegression\n",
    "from sklearn.model_selection import train_test_split\n",
    "from sklearn import metrics\n",
    "from sklearn.model_selection import GridSearchCV\n",
    "from sklearn.model_selection import KFold, cross_val_score\n",
    "# instantiate the model (using the default parameters)\n",
    "import numpy as np\n",
    "lr=LinearRegression()\n",
    "\n",
    "# fit the model with data\n",
    "lr.fit(X_train,y_train)\n",
    "\n",
    "pred = lr.predict(X_test)\n",
    "\n",
    "score = metrics.mean_squared_error(pred,y_test)\n",
    "print(\"Final score (MSE): {}\".format(score))\n",
    "\n",
    "# Measure RMSE error.  RMSE is common for regression.\n",
    "score = np.sqrt(metrics.mean_squared_error(pred,y_test))\n",
    "print(\"Final score (RMSE): {}\".format(score))\n",
    "\n",
    "grid_param = {'fit_intercept': [True, False], \n",
    "    'normalize': [True, False]\n",
    "}\n",
    "reg = LinearRegression()\n",
    "reg_grid = GridSearchCV(estimator=reg,\n",
    "                     param_grid=grid_param,\n",
    "                     scoring='neg_mean_squared_error',\n",
    "                     cv=4,\n",
    "                     n_jobs=-1)\n",
    "reg_grid.fit(X,y)\n",
    "\n",
    "results.append(np.sqrt(-reg_grid.best_score_))\n",
    "params.append(reg_grid.best_params_)\n",
    "names.append('Linear Regression')\n",
    "print results[0]\n",
    "print params[0]"
   ]
  },
  {
   "cell_type": "code",
   "execution_count": 21,
   "metadata": {},
   "outputs": [
    {
     "name": "stdout",
     "output_type": "stream",
     "text": [
      "1.3591469669454086\n",
      "{'max_features': 0.5, 'max_depth': 8}\n"
     ]
    }
   ],
   "source": [
    "grid_param =  {'max_depth': range(2, 10, 2), 'max_features': [0.25, 0.5, 0.75, 1.0]}\n",
    "reg = DecisionTreeRegressor()\n",
    "reg_grid = GridSearchCV(estimator=reg,\n",
    "                     param_grid=grid_param,\n",
    "                     scoring='neg_mean_squared_error',\n",
    "                     cv=4,\n",
    "                     n_jobs=-1)\n",
    "reg_grid.fit(X,y)\n",
    "\n",
    "results.append(np.sqrt(-reg_grid.best_score_))\n",
    "params.append(reg_grid.best_params_)\n",
    "names.append('DecisionTreeRegressor')\n",
    "print results[1]\n",
    "print params[1]"
   ]
  },
  {
   "cell_type": "code",
   "execution_count": 22,
   "metadata": {},
   "outputs": [
    {
     "name": "stdout",
     "output_type": "stream",
     "text": [
      "1.0489738977883685\n",
      "{'C': 1000.0, 'gamma': 1.0}\n"
     ]
    }
   ],
   "source": [
    "grid_param = {'C': [1e0, 1e1, 1e2, 1e3], 'gamma': np.logspace(-2, 2, 5)}\n",
    "reg = SVR()\n",
    "reg_grid = GridSearchCV(estimator=reg,\n",
    "                     param_grid=grid_param,\n",
    "                     scoring='neg_mean_squared_error',\n",
    "                     cv=4,\n",
    "                     n_jobs=-1)\n",
    "reg_grid.fit(X,y)\n",
    "\n",
    "results.append(np.sqrt(-reg_grid.best_score_))\n",
    "params.append(reg_grid.best_params_)\n",
    "names.append('SVR')\n",
    "print results[2]\n",
    "print params[2]"
   ]
  },
  {
   "cell_type": "code",
   "execution_count": 23,
   "metadata": {},
   "outputs": [
    {
     "name": "stdout",
     "output_type": "stream",
     "text": [
      "  models      RMSE\n",
      "2    SVR  1.048974\n"
     ]
    },
    {
     "data": {
      "image/png": "[encoded data removed]",
      "text/plain": [
       "<matplotlib.figure.Figure at 0x7f1c0bb83f50>"
      ]
     },
     "metadata": {
      "needs_background": "light"
     },
     "output_type": "display_data"
    }
   ],
   "source": [
    "# GridSearch to see if optimizing the parameters will improve (lower) the RMSE\n",
    "result_df = pd.DataFrame({'models': names, 'results': results})\n",
    "result_df.columns = ['models', 'RMSE']\n",
    "result_df.sort_values(by='RMSE', ascending=False, inplace=True)\n",
    "print result_df.tail(1)\n",
    "\n",
    "# plot results\n",
    "sns.barplot(x='models', y='RMSE', data=result_df);"
   ]
  },
  {
   "cell_type": "markdown",
   "metadata": {},
   "source": [
    "# Remodeling our Problem"
   ]
  },
  {
   "cell_type": "markdown",
   "metadata": {},
   "source": [
    "As our final task, we’ll try to model a simpler problem and run the exact same analysis. Instead of trying to predict the exact star rating, we’ll try to classify the posts into positive ( 5-star reviews) or negative (1 star reviews). We’ll remove all the 3-star reviews for this task."
   ]
  },
  {
   "cell_type": "code",
   "execution_count": 24,
   "metadata": {},
   "outputs": [],
   "source": [
    "keep = set([1,5])\n",
    " \n",
    "# calculate the indices for the examples we want to keep\n",
    "keep_train_is = [i for i, y in enumerate(y_train) if y in keep]\n",
    "keep_test_is = [i for i, y in enumerate(y_test) if y in keep]\n",
    " \n",
    "# convert the train set\n",
    "X_train2 = X_train[keep_train_is, :]\n",
    "y_train2 = [y_train[i] for i in keep_train_is]\n",
    "y_train2 = [\"n\" if (y == 1 ) else \"p\" for y in y_train2]\n",
    " \n",
    "# convert the test set\n",
    "X_test2 = X_test[keep_test_is, :]\n",
    "y_test2 = [y_test[i] for i in keep_test_is]\n",
    "y_test2 = [\"n\" if (y == 1) else \"p\" for y in y_test2]"
   ]
  }
 ],
 "metadata": {
  "kernelspec": {
   "display_name": "Python 2",
   "language": "python",
   "name": "python2"
  },
  "language_info": {
   "codemirror_mode": {
    "name": "ipython",
    "version": 2
   },
   "file_extension": ".py",
   "mimetype": "text/x-python",
   "name": "python",
   "nbconvert_exporter": "python",
   "pygments_lexer": "ipython2",
   "version": "2.7.12"
  }
 },
 "nbformat": 4,
 "nbformat_minor": 2
}
