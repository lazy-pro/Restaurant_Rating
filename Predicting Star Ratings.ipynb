{
 "cells": [
  {
   "cell_type": "markdown",
   "metadata": {},
   "source": [
    "# Predicting Yelp Star Ratings for Restaraunts based on attributes\n"
   ]
  },
  {
   "cell_type": "markdown",
   "metadata": {},
   "source": [
    "## Data cleaning\n",
    "### Cleaning business data"
   ]
  },
  {
   "cell_type": "code",
   "execution_count": 1,
   "metadata": {},
   "outputs": [],
   "source": [
    "import json\n",
    "import numpy as np\n",
    "import pandas as pd"
   ]
  },
  {
   "cell_type": "code",
   "execution_count": 2,
   "metadata": {},
   "outputs": [
    {
     "name": "stdout",
     "output_type": "stream",
     "text": [
      "                    address  \\\n",
      "0  2128 Warrensville Ctr Rd   \n",
      "1            3710 Payne Ave   \n",
      "2            13181 Cedar Rd   \n",
      "3                             \n",
      "4             1 American Rd   \n",
      "\n",
      "                                          attributes             business_id  \\\n",
      "0              {u'BusinessAcceptsCreditCards': True}  jqp5TibmgJZVFKHTp3XfqQ   \n",
      "1  {u'BusinessParking': {u'garage': False, u'stre...  1cLXGXThDYZ5WK_KpBLtkw   \n",
      "2  {u'BusinessParking': {u'garage': False, u'stre...  Pawavw9U8rjxWVPU-RB7LA   \n",
      "3                                                 {}  2bGCupC5mfHmEaor4pZaqg   \n",
      "4  {u'BusinessAcceptsCreditCards': True, u'Restau...  Q7Xw5YbS4wN7sdqZRsq4vQ   \n",
      "\n",
      "                                          categories       city  \\\n",
      "0             [Car Wash, Automotive, Auto Detailing]  Cleveland   \n",
      "1                     [Food, Bakeries, Coffee & Tea]  Cleveland   \n",
      "2                             [Chinese, Restaurants]  Cleveland   \n",
      "3  [Home Services, Home Cleaning, Local Services,...  Cleveland   \n",
      "4  [Event Planning & Services, Cards & Stationery...  Cleveland   \n",
      "\n",
      "                                               hours  is_open   latitude  \\\n",
      "0  {u'Monday': u'8:30-18:00', u'Tuesday': u'8:30-...        1  41.501820   \n",
      "1  {u'Monday': u'9:00-20:00', u'Friday': u'9:00-2...        1  41.509408   \n",
      "2  {u'Monday': u'11:30-21:30', u'Tuesday': u'11:3...        1  41.501413   \n",
      "3  {u'Monday': u'0:00-0:00', u'Tuesday': u'0:00-0...        1  41.376464   \n",
      "4                                                 {}        1  41.437500   \n",
      "\n",
      "   longitude                              name       neighborhood postal_code  \\\n",
      "0 -81.536776            Alpaul Automobile Wash                          44121   \n",
      "1 -81.662162                       Koko Bakery  Goodrich Kirtland       44114   \n",
      "2 -81.565982  Richie Chan's Chinese Restaurant                          44118   \n",
      "3 -81.767764                     Clean Machine                          44130   \n",
      "4 -81.763626                         Cardstore           Brooklyn       44144   \n",
      "\n",
      "   review_count  stars state  \n",
      "0            25    3.0    OH  \n",
      "1           162    4.0    OH  \n",
      "2            22    3.5    OH  \n",
      "3             3    4.5    OH  \n",
      "4             8    2.5    OH  \n",
      "(3164, 15)\n"
     ]
    }
   ],
   "source": [
    "# load and preview the data\n",
    "business_data = []\n",
    "with open('data/business_sample_cleveland.json') as f:\n",
    "    for line in f:\n",
    "        business_data.append(json.loads(line))\n",
    "business_df = pd.DataFrame.from_dict(business_data)\n",
    "print business_df.head()\n",
    "print business_df.shape"
   ]
  },
  {
   "cell_type": "code",
   "execution_count": 3,
   "metadata": {},
   "outputs": [],
   "source": [
    "# \"name\" column name is ambiguous with df.name - change it\n",
    "business_df = business_df.rename(columns = {'name': 'BusinessName'})"
   ]
  },
  {
   "cell_type": "markdown",
   "metadata": {},
   "source": [
    "The business categories (e.g. Restaurant, Home Cleaning) are in a list in the 'categories' column, which isn't easy to parse. By one-hot encoding them, we can more easily filter the dataset by category and use the categories as features in a model."
   ]
  },
  {
   "cell_type": "code",
   "execution_count": 4,
   "metadata": {},
   "outputs": [
    {
     "name": "stdout",
     "output_type": "stream",
     "text": [
      "(3164, 649)\n"
     ]
    }
   ],
   "source": [
    "business_df['categories_clean'] = map(lambda x: '|'.join(x), business_df['categories'])\n",
    "categories_df = business_df.categories_clean.str.get_dummies(sep='|')\n",
    "# merge\n",
    "business_df = business_df.merge(categories_df, left_index=True, right_index=True)\n",
    "# remove intermediate columns (no longer needed)\n",
    "business_df.drop(['categories', 'categories_clean'], axis=1, inplace=True)\n",
    "print business_df.shape"
   ]
  },
  {
   "cell_type": "markdown",
   "metadata": {},
   "source": [
    "We also need to one-hot encode the business attributes and their sub-attributes, which are currently in dictionaries in the 'attributes' column."
   ]
  },
  {
   "cell_type": "code",
   "execution_count": 5,
   "metadata": {},
   "outputs": [
    {
     "data": {
      "text/plain": [
       "0                {u'BusinessAcceptsCreditCards': True}\n",
       "1    {u'BusinessParking': {u'garage': False, u'stre...\n",
       "2    {u'BusinessParking': {u'garage': False, u'stre...\n",
       "3                                                   {}\n",
       "4    {u'BusinessAcceptsCreditCards': True, u'Restau...\n",
       "Name: attributes, dtype: object"
      ]
     },
     "execution_count": 5,
     "metadata": {},
     "output_type": "execute_result"
    }
   ],
   "source": [
    "business_df['attributes'].head()"
   ]
  },
  {
   "cell_type": "code",
   "execution_count": 6,
   "metadata": {},
   "outputs": [
    {
     "name": "stdout",
     "output_type": "stream",
     "text": [
      "                    address             business_id       city  \\\n",
      "0  2128 Warrensville Ctr Rd  jqp5TibmgJZVFKHTp3XfqQ  Cleveland   \n",
      "1            3710 Payne Ave  1cLXGXThDYZ5WK_KpBLtkw  Cleveland   \n",
      "2            13181 Cedar Rd  Pawavw9U8rjxWVPU-RB7LA  Cleveland   \n",
      "3                            2bGCupC5mfHmEaor4pZaqg  Cleveland   \n",
      "4             1 American Rd  Q7Xw5YbS4wN7sdqZRsq4vQ  Cleveland   \n",
      "\n",
      "                                               hours  is_open   latitude  \\\n",
      "0  {u'Monday': u'8:30-18:00', u'Tuesday': u'8:30-...        1  41.501820   \n",
      "1  {u'Monday': u'9:00-20:00', u'Friday': u'9:00-2...        1  41.509408   \n",
      "2  {u'Monday': u'11:30-21:30', u'Tuesday': u'11:3...        1  41.501413   \n",
      "3  {u'Monday': u'0:00-0:00', u'Tuesday': u'0:00-0...        1  41.376464   \n",
      "4                                                 {}        1  41.437500   \n",
      "\n",
      "   longitude                      BusinessName       neighborhood postal_code  \\\n",
      "0 -81.536776            Alpaul Automobile Wash                          44121   \n",
      "1 -81.662162                       Koko Bakery  Goodrich Kirtland       44114   \n",
      "2 -81.565982  Richie Chan's Chinese Restaurant                          44118   \n",
      "3 -81.767764                     Clean Machine                          44130   \n",
      "4 -81.763626                         Cardstore           Brooklyn       44144   \n",
      "\n",
      "      ...       HairSpecializesIn_kids  HairSpecializesIn_perms  \\\n",
      "0     ...                          NaN                      NaN   \n",
      "1     ...                          NaN                      NaN   \n",
      "2     ...                          NaN                      NaN   \n",
      "3     ...                          NaN                      NaN   \n",
      "4     ...                          NaN                      NaN   \n",
      "\n",
      "  HairSpecializesIn_straightperms  Music_background_music  Music_dj  \\\n",
      "0                             NaN                     NaN       NaN   \n",
      "1                             NaN                     NaN       NaN   \n",
      "2                             NaN                     NaN       NaN   \n",
      "3                             NaN                     NaN       NaN   \n",
      "4                             NaN                     NaN       NaN   \n",
      "\n",
      "   Music_jukebox  Music_karaoke  Music_live  Music_no_music  Music_video  \n",
      "0            NaN            NaN         NaN             NaN          NaN  \n",
      "1            NaN            NaN         NaN             NaN          NaN  \n",
      "2            NaN            NaN         NaN             NaN          NaN  \n",
      "3            NaN            NaN         NaN             NaN          NaN  \n",
      "4            NaN            NaN         NaN             NaN          NaN  \n",
      "\n",
      "[5 rows x 722 columns]\n",
      "(3164, 722)\n"
     ]
    }
   ],
   "source": [
    "business_df = business_df.join(pd.DataFrame(business_df['attributes'].to_dict()).T)\n",
    "# further split sub-attributes into their own columns\n",
    "cols_to_split = ['BusinessParking', 'Ambience', 'BestNights', 'GoodForMeal', 'HairSpecializesIn', 'Music']\n",
    "for col_to_split in cols_to_split:\n",
    "    new_df = pd.DataFrame(business_df[col_to_split].to_dict()).T\n",
    "    new_df.columns = [col_to_split + '_' + str(col) for col in new_df.columns]\n",
    "    business_df = business_df.join(new_df)\n",
    "\n",
    "business_df.drop(['attributes'] + cols_to_split, axis=1, inplace=True)\n",
    "\n",
    "print business_df.head()\n",
    "print business_df.shape"
   ]
  },
  {
   "cell_type": "markdown",
   "metadata": {},
   "source": [
    "While most of these new columns we just made are boolean attributes, a number of them are categorical, which need some special handling. We need to encode them so models can use them as features."
   ]
  },
  {
   "cell_type": "code",
   "execution_count": 7,
   "metadata": {},
   "outputs": [
    {
     "data": {
      "text/html": [
       "<div>\n",
       "<style scoped>\n",
       "    .dataframe tbody tr th:only-of-type {\n",
       "        vertical-align: middle;\n",
       "    }\n",
       "\n",
       "    .dataframe tbody tr th {\n",
       "        vertical-align: top;\n",
       "    }\n",
       "\n",
       "    .dataframe thead th {\n",
       "        text-align: right;\n",
       "    }\n",
       "</style>\n",
       "<table border=\"1\" class=\"dataframe\">\n",
       "  <thead>\n",
       "    <tr style=\"text-align: right;\">\n",
       "      <th></th>\n",
       "      <th>address</th>\n",
       "      <th>business_id</th>\n",
       "      <th>city</th>\n",
       "      <th>hours</th>\n",
       "      <th>is_open</th>\n",
       "      <th>latitude</th>\n",
       "      <th>longitude</th>\n",
       "      <th>BusinessName</th>\n",
       "      <th>neighborhood</th>\n",
       "      <th>postal_code</th>\n",
       "      <th>...</th>\n",
       "      <th>NoiseLevel_very_loud</th>\n",
       "      <th>RestaurantsAttire_casual</th>\n",
       "      <th>RestaurantsAttire_dressy</th>\n",
       "      <th>RestaurantsAttire_formal</th>\n",
       "      <th>Smoking_no</th>\n",
       "      <th>Smoking_outdoor</th>\n",
       "      <th>Smoking_yes</th>\n",
       "      <th>WiFi_free</th>\n",
       "      <th>WiFi_no</th>\n",
       "      <th>WiFi_paid</th>\n",
       "    </tr>\n",
       "  </thead>\n",
       "  <tbody>\n",
       "    <tr>\n",
       "      <th>0</th>\n",
       "      <td>2128 Warrensville Ctr Rd</td>\n",
       "      <td>jqp5TibmgJZVFKHTp3XfqQ</td>\n",
       "      <td>Cleveland</td>\n",
       "      <td>{u'Monday': u'8:30-18:00', u'Tuesday': u'8:30-...</td>\n",
       "      <td>1</td>\n",
       "      <td>41.501820</td>\n",
       "      <td>-81.536776</td>\n",
       "      <td>Alpaul Automobile Wash</td>\n",
       "      <td></td>\n",
       "      <td>44121</td>\n",
       "      <td>...</td>\n",
       "      <td>0</td>\n",
       "      <td>0</td>\n",
       "      <td>0</td>\n",
       "      <td>0</td>\n",
       "      <td>0</td>\n",
       "      <td>0</td>\n",
       "      <td>0</td>\n",
       "      <td>0</td>\n",
       "      <td>0</td>\n",
       "      <td>0</td>\n",
       "    </tr>\n",
       "    <tr>\n",
       "      <th>1</th>\n",
       "      <td>3710 Payne Ave</td>\n",
       "      <td>1cLXGXThDYZ5WK_KpBLtkw</td>\n",
       "      <td>Cleveland</td>\n",
       "      <td>{u'Monday': u'9:00-20:00', u'Friday': u'9:00-2...</td>\n",
       "      <td>1</td>\n",
       "      <td>41.509408</td>\n",
       "      <td>-81.662162</td>\n",
       "      <td>Koko Bakery</td>\n",
       "      <td>Goodrich Kirtland</td>\n",
       "      <td>44114</td>\n",
       "      <td>...</td>\n",
       "      <td>0</td>\n",
       "      <td>0</td>\n",
       "      <td>0</td>\n",
       "      <td>0</td>\n",
       "      <td>0</td>\n",
       "      <td>0</td>\n",
       "      <td>0</td>\n",
       "      <td>1</td>\n",
       "      <td>0</td>\n",
       "      <td>0</td>\n",
       "    </tr>\n",
       "    <tr>\n",
       "      <th>2</th>\n",
       "      <td>13181 Cedar Rd</td>\n",
       "      <td>Pawavw9U8rjxWVPU-RB7LA</td>\n",
       "      <td>Cleveland</td>\n",
       "      <td>{u'Monday': u'11:30-21:30', u'Tuesday': u'11:3...</td>\n",
       "      <td>1</td>\n",
       "      <td>41.501413</td>\n",
       "      <td>-81.565982</td>\n",
       "      <td>Richie Chan's Chinese Restaurant</td>\n",
       "      <td></td>\n",
       "      <td>44118</td>\n",
       "      <td>...</td>\n",
       "      <td>0</td>\n",
       "      <td>1</td>\n",
       "      <td>0</td>\n",
       "      <td>0</td>\n",
       "      <td>0</td>\n",
       "      <td>0</td>\n",
       "      <td>0</td>\n",
       "      <td>0</td>\n",
       "      <td>1</td>\n",
       "      <td>0</td>\n",
       "    </tr>\n",
       "    <tr>\n",
       "      <th>3</th>\n",
       "      <td></td>\n",
       "      <td>2bGCupC5mfHmEaor4pZaqg</td>\n",
       "      <td>Cleveland</td>\n",
       "      <td>{u'Monday': u'0:00-0:00', u'Tuesday': u'0:00-0...</td>\n",
       "      <td>1</td>\n",
       "      <td>41.376464</td>\n",
       "      <td>-81.767764</td>\n",
       "      <td>Clean Machine</td>\n",
       "      <td></td>\n",
       "      <td>44130</td>\n",
       "      <td>...</td>\n",
       "      <td>0</td>\n",
       "      <td>0</td>\n",
       "      <td>0</td>\n",
       "      <td>0</td>\n",
       "      <td>0</td>\n",
       "      <td>0</td>\n",
       "      <td>0</td>\n",
       "      <td>0</td>\n",
       "      <td>0</td>\n",
       "      <td>0</td>\n",
       "    </tr>\n",
       "    <tr>\n",
       "      <th>4</th>\n",
       "      <td>1 American Rd</td>\n",
       "      <td>Q7Xw5YbS4wN7sdqZRsq4vQ</td>\n",
       "      <td>Cleveland</td>\n",
       "      <td>{}</td>\n",
       "      <td>1</td>\n",
       "      <td>41.437500</td>\n",
       "      <td>-81.763626</td>\n",
       "      <td>Cardstore</td>\n",
       "      <td>Brooklyn</td>\n",
       "      <td>44144</td>\n",
       "      <td>...</td>\n",
       "      <td>0</td>\n",
       "      <td>0</td>\n",
       "      <td>0</td>\n",
       "      <td>0</td>\n",
       "      <td>0</td>\n",
       "      <td>0</td>\n",
       "      <td>0</td>\n",
       "      <td>0</td>\n",
       "      <td>0</td>\n",
       "      <td>0</td>\n",
       "    </tr>\n",
       "  </tbody>\n",
       "</table>\n",
       "<p>5 rows × 737 columns</p>\n",
       "</div>"
      ],
      "text/plain": [
       "                    address             business_id       city  \\\n",
       "0  2128 Warrensville Ctr Rd  jqp5TibmgJZVFKHTp3XfqQ  Cleveland   \n",
       "1            3710 Payne Ave  1cLXGXThDYZ5WK_KpBLtkw  Cleveland   \n",
       "2            13181 Cedar Rd  Pawavw9U8rjxWVPU-RB7LA  Cleveland   \n",
       "3                            2bGCupC5mfHmEaor4pZaqg  Cleveland   \n",
       "4             1 American Rd  Q7Xw5YbS4wN7sdqZRsq4vQ  Cleveland   \n",
       "\n",
       "                                               hours  is_open   latitude  \\\n",
       "0  {u'Monday': u'8:30-18:00', u'Tuesday': u'8:30-...        1  41.501820   \n",
       "1  {u'Monday': u'9:00-20:00', u'Friday': u'9:00-2...        1  41.509408   \n",
       "2  {u'Monday': u'11:30-21:30', u'Tuesday': u'11:3...        1  41.501413   \n",
       "3  {u'Monday': u'0:00-0:00', u'Tuesday': u'0:00-0...        1  41.376464   \n",
       "4                                                 {}        1  41.437500   \n",
       "\n",
       "   longitude                      BusinessName       neighborhood postal_code  \\\n",
       "0 -81.536776            Alpaul Automobile Wash                          44121   \n",
       "1 -81.662162                       Koko Bakery  Goodrich Kirtland       44114   \n",
       "2 -81.565982  Richie Chan's Chinese Restaurant                          44118   \n",
       "3 -81.767764                     Clean Machine                          44130   \n",
       "4 -81.763626                         Cardstore           Brooklyn       44144   \n",
       "\n",
       "     ...      NoiseLevel_very_loud  RestaurantsAttire_casual  \\\n",
       "0    ...                         0                         0   \n",
       "1    ...                         0                         0   \n",
       "2    ...                         0                         1   \n",
       "3    ...                         0                         0   \n",
       "4    ...                         0                         0   \n",
       "\n",
       "  RestaurantsAttire_dressy  RestaurantsAttire_formal  Smoking_no  \\\n",
       "0                        0                         0           0   \n",
       "1                        0                         0           0   \n",
       "2                        0                         0           0   \n",
       "3                        0                         0           0   \n",
       "4                        0                         0           0   \n",
       "\n",
       "   Smoking_outdoor  Smoking_yes  WiFi_free  WiFi_no  WiFi_paid  \n",
       "0                0            0          0        0          0  \n",
       "1                0            0          1        0          0  \n",
       "2                0            0          0        1          0  \n",
       "3                0            0          0        0          0  \n",
       "4                0            0          0        0          0  \n",
       "\n",
       "[5 rows x 737 columns]"
      ]
     },
     "execution_count": 7,
     "metadata": {},
     "output_type": "execute_result"
    }
   ],
   "source": [
    "# columns with non-boolean categorical values:\n",
    "cols_to_split = ['AgesAllowed', 'Alcohol', 'BYOBCorkage', 'NoiseLevel', 'RestaurantsAttire', 'Smoking', 'WiFi']\n",
    "new_cat = pd.concat([pd.get_dummies(business_df[col], prefix=col, prefix_sep='_') for col in cols_to_split], axis=1)\n",
    "# keep all columns (not n-1) because 0's for all of them indicates that the data was missing (useful info)\n",
    "business_df = pd.concat([business_df, new_cat], axis=1)\n",
    "business_df.drop(cols_to_split, inplace=True, axis=1)\n",
    "business_df.head()"
   ]
  },
  {
   "cell_type": "markdown",
   "metadata": {},
   "source": [
    "There are a lot of missing values. We can clean the missing values by giving them a value that's not True or False, but right in the middle: 0.5."
   ]
  },
  {
   "cell_type": "code",
   "execution_count": 8,
   "metadata": {},
   "outputs": [
    {
     "name": "stdout",
     "output_type": "stream",
     "text": [
      "0     True\n",
      "1     True\n",
      "2    False\n",
      "3      NaN\n",
      "4     True\n",
      "5     True\n",
      "6     True\n",
      "7      NaN\n",
      "8     True\n",
      "9     True\n",
      "Name: BusinessAcceptsCreditCards, dtype: object\n",
      "(3164, 737)\n",
      "(1361, 737)\n",
      "(1361, 703)\n"
     ]
    },
    {
     "data": {
      "text/html": [
       "<div>\n",
       "<style scoped>\n",
       "    .dataframe tbody tr th:only-of-type {\n",
       "        vertical-align: middle;\n",
       "    }\n",
       "\n",
       "    .dataframe tbody tr th {\n",
       "        vertical-align: top;\n",
       "    }\n",
       "\n",
       "    .dataframe thead th {\n",
       "        text-align: right;\n",
       "    }\n",
       "</style>\n",
       "<table border=\"1\" class=\"dataframe\">\n",
       "  <thead>\n",
       "    <tr style=\"text-align: right;\">\n",
       "      <th></th>\n",
       "      <th>address</th>\n",
       "      <th>business_id</th>\n",
       "      <th>city</th>\n",
       "      <th>hours</th>\n",
       "      <th>is_open</th>\n",
       "      <th>latitude</th>\n",
       "      <th>longitude</th>\n",
       "      <th>BusinessName</th>\n",
       "      <th>neighborhood</th>\n",
       "      <th>postal_code</th>\n",
       "      <th>...</th>\n",
       "      <th>NoiseLevel_very_loud</th>\n",
       "      <th>RestaurantsAttire_casual</th>\n",
       "      <th>RestaurantsAttire_dressy</th>\n",
       "      <th>RestaurantsAttire_formal</th>\n",
       "      <th>Smoking_no</th>\n",
       "      <th>Smoking_outdoor</th>\n",
       "      <th>Smoking_yes</th>\n",
       "      <th>WiFi_free</th>\n",
       "      <th>WiFi_no</th>\n",
       "      <th>WiFi_paid</th>\n",
       "    </tr>\n",
       "  </thead>\n",
       "  <tbody>\n",
       "    <tr>\n",
       "      <th>2</th>\n",
       "      <td>13181 Cedar Rd</td>\n",
       "      <td>Pawavw9U8rjxWVPU-RB7LA</td>\n",
       "      <td>Cleveland</td>\n",
       "      <td>{u'Monday': u'11:30-21:30', u'Tuesday': u'11:3...</td>\n",
       "      <td>1</td>\n",
       "      <td>41.501413</td>\n",
       "      <td>-81.565982</td>\n",
       "      <td>Richie Chan's Chinese Restaurant</td>\n",
       "      <td></td>\n",
       "      <td>44118.0</td>\n",
       "      <td>...</td>\n",
       "      <td>0</td>\n",
       "      <td>1</td>\n",
       "      <td>0</td>\n",
       "      <td>0</td>\n",
       "      <td>0</td>\n",
       "      <td>0</td>\n",
       "      <td>0</td>\n",
       "      <td>0</td>\n",
       "      <td>1</td>\n",
       "      <td>0</td>\n",
       "    </tr>\n",
       "    <tr>\n",
       "      <th>5</th>\n",
       "      <td>728 Richmond Rd</td>\n",
       "      <td>wkhxaIt6S9bQ0twAD9Svpw</td>\n",
       "      <td>Cleveland</td>\n",
       "      <td>{u'Monday': u'11:00-21:00', u'Tuesday': u'11:0...</td>\n",
       "      <td>0</td>\n",
       "      <td>41.540814</td>\n",
       "      <td>-81.497677</td>\n",
       "      <td>Giuseppes Pizza &amp; Subs</td>\n",
       "      <td></td>\n",
       "      <td>44143.0</td>\n",
       "      <td>...</td>\n",
       "      <td>0</td>\n",
       "      <td>0</td>\n",
       "      <td>0</td>\n",
       "      <td>0</td>\n",
       "      <td>0</td>\n",
       "      <td>0</td>\n",
       "      <td>0</td>\n",
       "      <td>0</td>\n",
       "      <td>0</td>\n",
       "      <td>0</td>\n",
       "    </tr>\n",
       "    <tr>\n",
       "      <th>9</th>\n",
       "      <td>11625 Euclid Ave</td>\n",
       "      <td>VUb97h3RTg6InKdfgB49Bw</td>\n",
       "      <td>Cleveland</td>\n",
       "      <td>{u'Monday': u'16:00-0:30', u'Tuesday': u'16:00...</td>\n",
       "      <td>1</td>\n",
       "      <td>41.511107</td>\n",
       "      <td>-81.602625</td>\n",
       "      <td>Happy Dog at the Euclid Tavern</td>\n",
       "      <td></td>\n",
       "      <td>44106.0</td>\n",
       "      <td>...</td>\n",
       "      <td>0</td>\n",
       "      <td>1</td>\n",
       "      <td>0</td>\n",
       "      <td>0</td>\n",
       "      <td>0</td>\n",
       "      <td>1</td>\n",
       "      <td>0</td>\n",
       "      <td>1</td>\n",
       "      <td>0</td>\n",
       "      <td>0</td>\n",
       "    </tr>\n",
       "    <tr>\n",
       "      <th>11</th>\n",
       "      <td>7412 Detroit Ave</td>\n",
       "      <td>CtYWpX_cy1YdZgoKtS0Tqg</td>\n",
       "      <td>Cleveland</td>\n",
       "      <td>{u'Monday': u'10:00-0:00', u'Tuesday': u'10:00...</td>\n",
       "      <td>1</td>\n",
       "      <td>41.482782</td>\n",
       "      <td>-81.736226</td>\n",
       "      <td>Happys Pizza</td>\n",
       "      <td>Detroit-Shoreway</td>\n",
       "      <td>44102.0</td>\n",
       "      <td>...</td>\n",
       "      <td>1</td>\n",
       "      <td>1</td>\n",
       "      <td>0</td>\n",
       "      <td>0</td>\n",
       "      <td>0</td>\n",
       "      <td>0</td>\n",
       "      <td>0</td>\n",
       "      <td>0</td>\n",
       "      <td>1</td>\n",
       "      <td>0</td>\n",
       "    </tr>\n",
       "    <tr>\n",
       "      <th>12</th>\n",
       "      <td>4645 Northfield Rd</td>\n",
       "      <td>n8GCGa5gX17Ibix5VsGMuw</td>\n",
       "      <td>Cleveland</td>\n",
       "      <td>{u'Monday': u'10:30-23:00', u'Tuesday': u'10:3...</td>\n",
       "      <td>1</td>\n",
       "      <td>41.430684</td>\n",
       "      <td>-81.524946</td>\n",
       "      <td>Popeyes Louisiana Kitchen</td>\n",
       "      <td></td>\n",
       "      <td>44128.0</td>\n",
       "      <td>...</td>\n",
       "      <td>0</td>\n",
       "      <td>1</td>\n",
       "      <td>0</td>\n",
       "      <td>0</td>\n",
       "      <td>0</td>\n",
       "      <td>0</td>\n",
       "      <td>0</td>\n",
       "      <td>0</td>\n",
       "      <td>0</td>\n",
       "      <td>0</td>\n",
       "    </tr>\n",
       "    <tr>\n",
       "      <th>16</th>\n",
       "      <td>1900 Euclid Ave</td>\n",
       "      <td>8FZftD3Y5jQ2R44EDBqhlA</td>\n",
       "      <td>Cleveland</td>\n",
       "      <td>{u'Monday': u'9:00-19:00', u'Tuesday': u'9:00-...</td>\n",
       "      <td>1</td>\n",
       "      <td>41.501186</td>\n",
       "      <td>-81.677437</td>\n",
       "      <td>Cafe Bon Appetit</td>\n",
       "      <td>Quadrangle</td>\n",
       "      <td>44115.0</td>\n",
       "      <td>...</td>\n",
       "      <td>0</td>\n",
       "      <td>1</td>\n",
       "      <td>0</td>\n",
       "      <td>0</td>\n",
       "      <td>0</td>\n",
       "      <td>0</td>\n",
       "      <td>0</td>\n",
       "      <td>0</td>\n",
       "      <td>1</td>\n",
       "      <td>0</td>\n",
       "    </tr>\n",
       "    <tr>\n",
       "      <th>17</th>\n",
       "      <td>24325 Cedar Rd</td>\n",
       "      <td>WpkuAJfHSIgjppRC-Wnxgg</td>\n",
       "      <td>Cleveland</td>\n",
       "      <td>{u'Monday': u'11:00-22:00', u'Tuesday': u'11:0...</td>\n",
       "      <td>1</td>\n",
       "      <td>41.503160</td>\n",
       "      <td>-81.502326</td>\n",
       "      <td>Brio Tuscan Grille</td>\n",
       "      <td></td>\n",
       "      <td>44124.0</td>\n",
       "      <td>...</td>\n",
       "      <td>0</td>\n",
       "      <td>1</td>\n",
       "      <td>0</td>\n",
       "      <td>0</td>\n",
       "      <td>0</td>\n",
       "      <td>0</td>\n",
       "      <td>0</td>\n",
       "      <td>0</td>\n",
       "      <td>0</td>\n",
       "      <td>0</td>\n",
       "    </tr>\n",
       "    <tr>\n",
       "      <th>19</th>\n",
       "      <td>200 Euclid Ave</td>\n",
       "      <td>YNI26xBkdOzI1TMGmIcEaw</td>\n",
       "      <td>Cleveland</td>\n",
       "      <td>{u'Monday': u'7:00-2:00', u'Tuesday': u'7:00-2...</td>\n",
       "      <td>1</td>\n",
       "      <td>41.499310</td>\n",
       "      <td>-81.691519</td>\n",
       "      <td>Taco Bell Cantina</td>\n",
       "      <td>Gateway District</td>\n",
       "      <td>44114.0</td>\n",
       "      <td>...</td>\n",
       "      <td>0</td>\n",
       "      <td>1</td>\n",
       "      <td>0</td>\n",
       "      <td>0</td>\n",
       "      <td>0</td>\n",
       "      <td>0</td>\n",
       "      <td>0</td>\n",
       "      <td>1</td>\n",
       "      <td>0</td>\n",
       "      <td>0</td>\n",
       "    </tr>\n",
       "    <tr>\n",
       "      <th>20</th>\n",
       "      <td>850 Euclid Ave</td>\n",
       "      <td>MTsIckdo3_uKuqk3B4zuKA</td>\n",
       "      <td>Cleveland</td>\n",
       "      <td>{u'Monday': u'11:00-16:00', u'Tuesday': u'11:0...</td>\n",
       "      <td>1</td>\n",
       "      <td>41.499778</td>\n",
       "      <td>-81.687028</td>\n",
       "      <td>Cleveland Pickle</td>\n",
       "      <td>Gateway District</td>\n",
       "      <td>44114.0</td>\n",
       "      <td>...</td>\n",
       "      <td>0</td>\n",
       "      <td>1</td>\n",
       "      <td>0</td>\n",
       "      <td>0</td>\n",
       "      <td>0</td>\n",
       "      <td>0</td>\n",
       "      <td>0</td>\n",
       "      <td>0</td>\n",
       "      <td>0</td>\n",
       "      <td>0</td>\n",
       "    </tr>\n",
       "    <tr>\n",
       "      <th>25</th>\n",
       "      <td>1838 Coventry Rd</td>\n",
       "      <td>UgWVMUWFrr6bt3NSfuKrGQ</td>\n",
       "      <td>Cleveland Heights</td>\n",
       "      <td>{u'Monday': u'10:30-1:30', u'Tuesday': u'10:30...</td>\n",
       "      <td>1</td>\n",
       "      <td>41.509222</td>\n",
       "      <td>-81.580223</td>\n",
       "      <td>Guys Pizza Co</td>\n",
       "      <td></td>\n",
       "      <td>44118.0</td>\n",
       "      <td>...</td>\n",
       "      <td>0</td>\n",
       "      <td>1</td>\n",
       "      <td>0</td>\n",
       "      <td>0</td>\n",
       "      <td>0</td>\n",
       "      <td>0</td>\n",
       "      <td>0</td>\n",
       "      <td>0</td>\n",
       "      <td>1</td>\n",
       "      <td>0</td>\n",
       "    </tr>\n",
       "  </tbody>\n",
       "</table>\n",
       "<p>10 rows × 703 columns</p>\n",
       "</div>"
      ],
      "text/plain": [
       "               address             business_id               city  \\\n",
       "2       13181 Cedar Rd  Pawavw9U8rjxWVPU-RB7LA          Cleveland   \n",
       "5      728 Richmond Rd  wkhxaIt6S9bQ0twAD9Svpw          Cleveland   \n",
       "9     11625 Euclid Ave  VUb97h3RTg6InKdfgB49Bw          Cleveland   \n",
       "11    7412 Detroit Ave  CtYWpX_cy1YdZgoKtS0Tqg          Cleveland   \n",
       "12  4645 Northfield Rd  n8GCGa5gX17Ibix5VsGMuw          Cleveland   \n",
       "16     1900 Euclid Ave  8FZftD3Y5jQ2R44EDBqhlA          Cleveland   \n",
       "17      24325 Cedar Rd  WpkuAJfHSIgjppRC-Wnxgg          Cleveland   \n",
       "19      200 Euclid Ave  YNI26xBkdOzI1TMGmIcEaw          Cleveland   \n",
       "20      850 Euclid Ave  MTsIckdo3_uKuqk3B4zuKA          Cleveland   \n",
       "25    1838 Coventry Rd  UgWVMUWFrr6bt3NSfuKrGQ  Cleveland Heights   \n",
       "\n",
       "                                                hours  is_open   latitude  \\\n",
       "2   {u'Monday': u'11:30-21:30', u'Tuesday': u'11:3...        1  41.501413   \n",
       "5   {u'Monday': u'11:00-21:00', u'Tuesday': u'11:0...        0  41.540814   \n",
       "9   {u'Monday': u'16:00-0:30', u'Tuesday': u'16:00...        1  41.511107   \n",
       "11  {u'Monday': u'10:00-0:00', u'Tuesday': u'10:00...        1  41.482782   \n",
       "12  {u'Monday': u'10:30-23:00', u'Tuesday': u'10:3...        1  41.430684   \n",
       "16  {u'Monday': u'9:00-19:00', u'Tuesday': u'9:00-...        1  41.501186   \n",
       "17  {u'Monday': u'11:00-22:00', u'Tuesday': u'11:0...        1  41.503160   \n",
       "19  {u'Monday': u'7:00-2:00', u'Tuesday': u'7:00-2...        1  41.499310   \n",
       "20  {u'Monday': u'11:00-16:00', u'Tuesday': u'11:0...        1  41.499778   \n",
       "25  {u'Monday': u'10:30-1:30', u'Tuesday': u'10:30...        1  41.509222   \n",
       "\n",
       "    longitude                      BusinessName      neighborhood  \\\n",
       "2  -81.565982  Richie Chan's Chinese Restaurant                     \n",
       "5  -81.497677            Giuseppes Pizza & Subs                     \n",
       "9  -81.602625    Happy Dog at the Euclid Tavern                     \n",
       "11 -81.736226                      Happys Pizza  Detroit-Shoreway   \n",
       "12 -81.524946         Popeyes Louisiana Kitchen                     \n",
       "16 -81.677437                  Cafe Bon Appetit        Quadrangle   \n",
       "17 -81.502326                Brio Tuscan Grille                     \n",
       "19 -81.691519                 Taco Bell Cantina  Gateway District   \n",
       "20 -81.687028                  Cleveland Pickle  Gateway District   \n",
       "25 -81.580223                     Guys Pizza Co                     \n",
       "\n",
       "    postal_code    ...      NoiseLevel_very_loud  RestaurantsAttire_casual  \\\n",
       "2       44118.0    ...                         0                         1   \n",
       "5       44143.0    ...                         0                         0   \n",
       "9       44106.0    ...                         0                         1   \n",
       "11      44102.0    ...                         1                         1   \n",
       "12      44128.0    ...                         0                         1   \n",
       "16      44115.0    ...                         0                         1   \n",
       "17      44124.0    ...                         0                         1   \n",
       "19      44114.0    ...                         0                         1   \n",
       "20      44114.0    ...                         0                         1   \n",
       "25      44118.0    ...                         0                         1   \n",
       "\n",
       "   RestaurantsAttire_dressy  RestaurantsAttire_formal  Smoking_no  \\\n",
       "2                         0                         0           0   \n",
       "5                         0                         0           0   \n",
       "9                         0                         0           0   \n",
       "11                        0                         0           0   \n",
       "12                        0                         0           0   \n",
       "16                        0                         0           0   \n",
       "17                        0                         0           0   \n",
       "19                        0                         0           0   \n",
       "20                        0                         0           0   \n",
       "25                        0                         0           0   \n",
       "\n",
       "    Smoking_outdoor  Smoking_yes  WiFi_free  WiFi_no  WiFi_paid  \n",
       "2                 0            0          0        1          0  \n",
       "5                 0            0          0        0          0  \n",
       "9                 1            0          1        0          0  \n",
       "11                0            0          0        1          0  \n",
       "12                0            0          0        0          0  \n",
       "16                0            0          0        1          0  \n",
       "17                0            0          0        0          0  \n",
       "19                0            0          1        0          0  \n",
       "20                0            0          0        0          0  \n",
       "25                0            0          0        1          0  \n",
       "\n",
       "[10 rows x 703 columns]"
      ]
     },
     "execution_count": 8,
     "metadata": {},
     "output_type": "execute_result"
    }
   ],
   "source": [
    "# convert true/false columns to 0/.5/1 for false/missing/true\n",
    "print business_df['BusinessAcceptsCreditCards'].head(10)\n",
    "print business_df.shape\n",
    "business_df=business_df[business_df['Restaurants'] == 1]\n",
    "print business_df.shape\n",
    "business_df = business_df[business_df.columns[business_df.isnull().mean() < 0.8]]\n",
    "print business_df.shape\n",
    "business_df = business_df.fillna(0.5).apply(pd.to_numeric, errors='ignore')  # can narrow with .iloc[:,648:722] if necessary\n",
    "business_df.head(10)\n",
    "# business_df['BusinessAcceptsCreditCards'].head(10)"
   ]
  },
  {
   "cell_type": "code",
   "execution_count": 9,
   "metadata": {},
   "outputs": [
    {
     "name": "stdout",
     "output_type": "stream",
     "text": [
      "2\n",
      "0\n"
     ]
    }
   ],
   "source": [
    "# deal with missing values in postal code\n",
    "print business_df['postal_code'].isnull().sum()\n",
    "business_df['postal_code'] = business_df['postal_code'].fillna(0)\n",
    "print business_df['postal_code'].isnull().sum()"
   ]
  },
  {
   "cell_type": "code",
   "execution_count": 10,
   "metadata": {},
   "outputs": [
    {
     "data": {
      "text/plain": [
       "0"
      ]
     },
     "execution_count": 10,
     "metadata": {},
     "output_type": "execute_result"
    }
   ],
   "source": [
    "# check that all nulls are removed\n",
    "business_df.isnull().sum().sum()"
   ]
  },
  {
   "cell_type": "markdown",
   "metadata": {},
   "source": [
    "### Cleaning check-in data\n",
    "This data shows, for each business, the number of check-ins for each hour of the day. I didn't use this data for prediction in this project, but I cleaned it to use for future projects."
   ]
  },
  {
   "cell_type": "code",
   "execution_count": 11,
   "metadata": {},
   "outputs": [
    {
     "data": {
      "text/html": [
       "<div>\n",
       "<style scoped>\n",
       "    .dataframe tbody tr th:only-of-type {\n",
       "        vertical-align: middle;\n",
       "    }\n",
       "\n",
       "    .dataframe tbody tr th {\n",
       "        vertical-align: top;\n",
       "    }\n",
       "\n",
       "    .dataframe thead th {\n",
       "        text-align: right;\n",
       "    }\n",
       "</style>\n",
       "<table border=\"1\" class=\"dataframe\">\n",
       "  <thead>\n",
       "    <tr style=\"text-align: right;\">\n",
       "      <th></th>\n",
       "      <th>business_id</th>\n",
       "      <th>time</th>\n",
       "    </tr>\n",
       "  </thead>\n",
       "  <tbody>\n",
       "    <tr>\n",
       "      <th>0</th>\n",
       "      <td>Zn3GV2xa9a-8bHjUM-2sow</td>\n",
       "      <td>{u'Monday': {u'1:00': 1}, u'Thursday': {u'23:0...</td>\n",
       "    </tr>\n",
       "    <tr>\n",
       "      <th>1</th>\n",
       "      <td>lia867Aug7wdfpo5t86W3Q</td>\n",
       "      <td>{u'Friday': {u'0:00': 1}}</td>\n",
       "    </tr>\n",
       "    <tr>\n",
       "      <th>2</th>\n",
       "      <td>8U6EmwNaeTnhKbhBgIZPGQ</td>\n",
       "      <td>{u'Monday': {u'5:00': 1, u'4:00': 3, u'1:00': ...</td>\n",
       "    </tr>\n",
       "    <tr>\n",
       "      <th>3</th>\n",
       "      <td>KsYAGLP4yC7FbfixaeCHsA</td>\n",
       "      <td>{u'Monday': {u'14:00': 4, u'22:00': 4, u'12:00...</td>\n",
       "    </tr>\n",
       "    <tr>\n",
       "      <th>4</th>\n",
       "      <td>bo3z3-WUNblcRKRrWqeTAg</td>\n",
       "      <td>{u'Monday': {u'19:00': 10, u'14:00': 3, u'17:0...</td>\n",
       "    </tr>\n",
       "  </tbody>\n",
       "</table>\n",
       "</div>"
      ],
      "text/plain": [
       "              business_id                                               time\n",
       "0  Zn3GV2xa9a-8bHjUM-2sow  {u'Monday': {u'1:00': 1}, u'Thursday': {u'23:0...\n",
       "1  lia867Aug7wdfpo5t86W3Q                          {u'Friday': {u'0:00': 1}}\n",
       "2  8U6EmwNaeTnhKbhBgIZPGQ  {u'Monday': {u'5:00': 1, u'4:00': 3, u'1:00': ...\n",
       "3  KsYAGLP4yC7FbfixaeCHsA  {u'Monday': {u'14:00': 4, u'22:00': 4, u'12:00...\n",
       "4  bo3z3-WUNblcRKRrWqeTAg  {u'Monday': {u'19:00': 10, u'14:00': 3, u'17:0..."
      ]
     },
     "execution_count": 11,
     "metadata": {},
     "output_type": "execute_result"
    }
   ],
   "source": [
    "checkin_data = []\n",
    "with open('data/checkin_sample_cleveland.json') as f:\n",
    "    for line in f:\n",
    "        checkin_data.append(json.loads(line))\n",
    "checkin_df = pd.DataFrame.from_dict(checkin_data)\n",
    "checkin_df.head()"
   ]
  },
  {
   "cell_type": "markdown",
   "metadata": {},
   "source": [
    "The 'time' column is a dictionary - we need to separate the data for each hour into its own column."
   ]
  },
  {
   "cell_type": "code",
   "execution_count": 12,
   "metadata": {},
   "outputs": [
    {
     "data": {
      "text/html": [
       "<div>\n",
       "<style scoped>\n",
       "    .dataframe tbody tr th:only-of-type {\n",
       "        vertical-align: middle;\n",
       "    }\n",
       "\n",
       "    .dataframe tbody tr th {\n",
       "        vertical-align: top;\n",
       "    }\n",
       "\n",
       "    .dataframe thead th {\n",
       "        text-align: right;\n",
       "    }\n",
       "</style>\n",
       "<table border=\"1\" class=\"dataframe\">\n",
       "  <thead>\n",
       "    <tr style=\"text-align: right;\">\n",
       "      <th></th>\n",
       "      <th>business_id</th>\n",
       "      <th>Friday 0:00</th>\n",
       "      <th>Friday 10:00</th>\n",
       "      <th>Friday 11:00</th>\n",
       "      <th>Friday 12:00</th>\n",
       "      <th>Friday 13:00</th>\n",
       "      <th>Friday 14:00</th>\n",
       "      <th>Friday 15:00</th>\n",
       "      <th>Friday 16:00</th>\n",
       "      <th>Friday 17:00</th>\n",
       "      <th>...</th>\n",
       "      <th>Wednesday 22:00</th>\n",
       "      <th>Wednesday 23:00</th>\n",
       "      <th>Wednesday 2:00</th>\n",
       "      <th>Wednesday 3:00</th>\n",
       "      <th>Wednesday 4:00</th>\n",
       "      <th>Wednesday 5:00</th>\n",
       "      <th>Wednesday 6:00</th>\n",
       "      <th>Wednesday 7:00</th>\n",
       "      <th>Wednesday 8:00</th>\n",
       "      <th>Wednesday 9:00</th>\n",
       "    </tr>\n",
       "  </thead>\n",
       "  <tbody>\n",
       "    <tr>\n",
       "      <th>0</th>\n",
       "      <td>Zn3GV2xa9a-8bHjUM-2sow</td>\n",
       "      <td>0.0</td>\n",
       "      <td>0.0</td>\n",
       "      <td>0.0</td>\n",
       "      <td>0.0</td>\n",
       "      <td>0.0</td>\n",
       "      <td>0.0</td>\n",
       "      <td>0.0</td>\n",
       "      <td>0.0</td>\n",
       "      <td>0.0</td>\n",
       "      <td>...</td>\n",
       "      <td>0.0</td>\n",
       "      <td>0.0</td>\n",
       "      <td>0.0</td>\n",
       "      <td>0.0</td>\n",
       "      <td>0.0</td>\n",
       "      <td>0.0</td>\n",
       "      <td>0.0</td>\n",
       "      <td>0.0</td>\n",
       "      <td>0.0</td>\n",
       "      <td>0.0</td>\n",
       "    </tr>\n",
       "    <tr>\n",
       "      <th>1</th>\n",
       "      <td>lia867Aug7wdfpo5t86W3Q</td>\n",
       "      <td>1.0</td>\n",
       "      <td>0.0</td>\n",
       "      <td>0.0</td>\n",
       "      <td>0.0</td>\n",
       "      <td>0.0</td>\n",
       "      <td>0.0</td>\n",
       "      <td>0.0</td>\n",
       "      <td>0.0</td>\n",
       "      <td>0.0</td>\n",
       "      <td>...</td>\n",
       "      <td>0.0</td>\n",
       "      <td>0.0</td>\n",
       "      <td>0.0</td>\n",
       "      <td>0.0</td>\n",
       "      <td>0.0</td>\n",
       "      <td>0.0</td>\n",
       "      <td>0.0</td>\n",
       "      <td>0.0</td>\n",
       "      <td>0.0</td>\n",
       "      <td>0.0</td>\n",
       "    </tr>\n",
       "    <tr>\n",
       "      <th>2</th>\n",
       "      <td>8U6EmwNaeTnhKbhBgIZPGQ</td>\n",
       "      <td>0.0</td>\n",
       "      <td>0.0</td>\n",
       "      <td>0.0</td>\n",
       "      <td>0.0</td>\n",
       "      <td>0.0</td>\n",
       "      <td>0.0</td>\n",
       "      <td>0.0</td>\n",
       "      <td>0.0</td>\n",
       "      <td>0.0</td>\n",
       "      <td>...</td>\n",
       "      <td>0.0</td>\n",
       "      <td>1.0</td>\n",
       "      <td>0.0</td>\n",
       "      <td>1.0</td>\n",
       "      <td>0.0</td>\n",
       "      <td>0.0</td>\n",
       "      <td>0.0</td>\n",
       "      <td>0.0</td>\n",
       "      <td>0.0</td>\n",
       "      <td>0.0</td>\n",
       "    </tr>\n",
       "    <tr>\n",
       "      <th>3</th>\n",
       "      <td>KsYAGLP4yC7FbfixaeCHsA</td>\n",
       "      <td>4.0</td>\n",
       "      <td>0.0</td>\n",
       "      <td>1.0</td>\n",
       "      <td>0.0</td>\n",
       "      <td>4.0</td>\n",
       "      <td>0.0</td>\n",
       "      <td>3.0</td>\n",
       "      <td>1.0</td>\n",
       "      <td>1.0</td>\n",
       "      <td>...</td>\n",
       "      <td>0.0</td>\n",
       "      <td>0.0</td>\n",
       "      <td>2.0</td>\n",
       "      <td>2.0</td>\n",
       "      <td>1.0</td>\n",
       "      <td>0.0</td>\n",
       "      <td>2.0</td>\n",
       "      <td>0.0</td>\n",
       "      <td>1.0</td>\n",
       "      <td>1.0</td>\n",
       "    </tr>\n",
       "    <tr>\n",
       "      <th>4</th>\n",
       "      <td>bo3z3-WUNblcRKRrWqeTAg</td>\n",
       "      <td>5.0</td>\n",
       "      <td>42.0</td>\n",
       "      <td>10.0</td>\n",
       "      <td>1.0</td>\n",
       "      <td>2.0</td>\n",
       "      <td>2.0</td>\n",
       "      <td>4.0</td>\n",
       "      <td>4.0</td>\n",
       "      <td>0.0</td>\n",
       "      <td>...</td>\n",
       "      <td>6.0</td>\n",
       "      <td>9.0</td>\n",
       "      <td>0.0</td>\n",
       "      <td>0.0</td>\n",
       "      <td>0.0</td>\n",
       "      <td>0.0</td>\n",
       "      <td>0.0</td>\n",
       "      <td>0.0</td>\n",
       "      <td>0.0</td>\n",
       "      <td>37.0</td>\n",
       "    </tr>\n",
       "  </tbody>\n",
       "</table>\n",
       "<p>5 rows × 169 columns</p>\n",
       "</div>"
      ],
      "text/plain": [
       "              business_id  Friday 0:00  Friday 10:00  Friday 11:00  \\\n",
       "0  Zn3GV2xa9a-8bHjUM-2sow          0.0           0.0           0.0   \n",
       "1  lia867Aug7wdfpo5t86W3Q          1.0           0.0           0.0   \n",
       "2  8U6EmwNaeTnhKbhBgIZPGQ          0.0           0.0           0.0   \n",
       "3  KsYAGLP4yC7FbfixaeCHsA          4.0           0.0           1.0   \n",
       "4  bo3z3-WUNblcRKRrWqeTAg          5.0          42.0          10.0   \n",
       "\n",
       "   Friday 12:00  Friday 13:00  Friday 14:00  Friday 15:00  Friday 16:00  \\\n",
       "0           0.0           0.0           0.0           0.0           0.0   \n",
       "1           0.0           0.0           0.0           0.0           0.0   \n",
       "2           0.0           0.0           0.0           0.0           0.0   \n",
       "3           0.0           4.0           0.0           3.0           1.0   \n",
       "4           1.0           2.0           2.0           4.0           4.0   \n",
       "\n",
       "   Friday 17:00       ...        Wednesday 22:00  Wednesday 23:00  \\\n",
       "0           0.0       ...                    0.0              0.0   \n",
       "1           0.0       ...                    0.0              0.0   \n",
       "2           0.0       ...                    0.0              1.0   \n",
       "3           1.0       ...                    0.0              0.0   \n",
       "4           0.0       ...                    6.0              9.0   \n",
       "\n",
       "   Wednesday 2:00  Wednesday 3:00  Wednesday 4:00  Wednesday 5:00  \\\n",
       "0             0.0             0.0             0.0             0.0   \n",
       "1             0.0             0.0             0.0             0.0   \n",
       "2             0.0             1.0             0.0             0.0   \n",
       "3             2.0             2.0             1.0             0.0   \n",
       "4             0.0             0.0             0.0             0.0   \n",
       "\n",
       "   Wednesday 6:00  Wednesday 7:00  Wednesday 8:00  Wednesday 9:00  \n",
       "0             0.0             0.0             0.0             0.0  \n",
       "1             0.0             0.0             0.0             0.0  \n",
       "2             0.0             0.0             0.0             0.0  \n",
       "3             2.0             0.0             1.0             1.0  \n",
       "4             0.0             0.0             0.0            37.0  \n",
       "\n",
       "[5 rows x 169 columns]"
      ]
     },
     "execution_count": 12,
     "metadata": {},
     "output_type": "execute_result"
    }
   ],
   "source": [
    "# separate the values from the dict so they're a list of ['Day', 'time', count]\n",
    "checkin_df['time_clean'] = map(lambda (x, y): map(lambda (k, v): map(lambda(i, value): [k, value, v.values()[i]], enumerate(v)), y.iteritems()), checkin_df['time'].iteritems())\n",
    "# flatten the list so each day is no longer in its own list\n",
    "checkin_df['time_clean'] = map(lambda l: [item for sublist in l for item in sublist], checkin_df['time_clean'])\n",
    "# make it a cleaner dict where key='Day Time', value=count\n",
    "checkin_df['time_clean'] = map(lambda x: {s + ' ' + t: u for (s, t, u) in x}, checkin_df['time_clean'])\n",
    "# add column for each day/time with counts as values\n",
    "new_checkin_df = checkin_df.join(pd.DataFrame(checkin_df[\"time_clean\"].to_dict()).T).fillna(0)\n",
    "# remove intermediate columns (no longer needed)\n",
    "new_checkin_df.drop(['time', 'time_clean'], axis=1, inplace=True)\n",
    "new_checkin_df.head()"
   ]
  },
  {
   "cell_type": "markdown",
   "metadata": {},
   "source": [
    "Merge this new checkin data with business_df."
   ]
  },
  {
   "cell_type": "code",
   "execution_count": 13,
   "metadata": {},
   "outputs": [
    {
     "data": {
      "text/html": [
       "<div>\n",
       "<style scoped>\n",
       "    .dataframe tbody tr th:only-of-type {\n",
       "        vertical-align: middle;\n",
       "    }\n",
       "\n",
       "    .dataframe tbody tr th {\n",
       "        vertical-align: top;\n",
       "    }\n",
       "\n",
       "    .dataframe thead th {\n",
       "        text-align: right;\n",
       "    }\n",
       "</style>\n",
       "<table border=\"1\" class=\"dataframe\">\n",
       "  <thead>\n",
       "    <tr style=\"text-align: right;\">\n",
       "      <th></th>\n",
       "      <th>address</th>\n",
       "      <th>business_id</th>\n",
       "      <th>city</th>\n",
       "      <th>hours</th>\n",
       "      <th>is_open</th>\n",
       "      <th>latitude</th>\n",
       "      <th>longitude</th>\n",
       "      <th>BusinessName</th>\n",
       "      <th>neighborhood</th>\n",
       "      <th>postal_code</th>\n",
       "      <th>...</th>\n",
       "      <th>Wednesday 22:00</th>\n",
       "      <th>Wednesday 23:00</th>\n",
       "      <th>Wednesday 2:00</th>\n",
       "      <th>Wednesday 3:00</th>\n",
       "      <th>Wednesday 4:00</th>\n",
       "      <th>Wednesday 5:00</th>\n",
       "      <th>Wednesday 6:00</th>\n",
       "      <th>Wednesday 7:00</th>\n",
       "      <th>Wednesday 8:00</th>\n",
       "      <th>Wednesday 9:00</th>\n",
       "    </tr>\n",
       "  </thead>\n",
       "  <tbody>\n",
       "    <tr>\n",
       "      <th>0</th>\n",
       "      <td>13181 Cedar Rd</td>\n",
       "      <td>Pawavw9U8rjxWVPU-RB7LA</td>\n",
       "      <td>Cleveland</td>\n",
       "      <td>{u'Monday': u'11:30-21:30', u'Tuesday': u'11:3...</td>\n",
       "      <td>1</td>\n",
       "      <td>41.501413</td>\n",
       "      <td>-81.565982</td>\n",
       "      <td>Richie Chan's Chinese Restaurant</td>\n",
       "      <td></td>\n",
       "      <td>44118.0</td>\n",
       "      <td>...</td>\n",
       "      <td>1.0</td>\n",
       "      <td>0.0</td>\n",
       "      <td>0.0</td>\n",
       "      <td>0.0</td>\n",
       "      <td>0.0</td>\n",
       "      <td>0.0</td>\n",
       "      <td>0.0</td>\n",
       "      <td>0.0</td>\n",
       "      <td>0.0</td>\n",
       "      <td>0.0</td>\n",
       "    </tr>\n",
       "    <tr>\n",
       "      <th>1</th>\n",
       "      <td>728 Richmond Rd</td>\n",
       "      <td>wkhxaIt6S9bQ0twAD9Svpw</td>\n",
       "      <td>Cleveland</td>\n",
       "      <td>{u'Monday': u'11:00-21:00', u'Tuesday': u'11:0...</td>\n",
       "      <td>0</td>\n",
       "      <td>41.540814</td>\n",
       "      <td>-81.497677</td>\n",
       "      <td>Giuseppes Pizza &amp; Subs</td>\n",
       "      <td></td>\n",
       "      <td>44143.0</td>\n",
       "      <td>...</td>\n",
       "      <td>NaN</td>\n",
       "      <td>NaN</td>\n",
       "      <td>NaN</td>\n",
       "      <td>NaN</td>\n",
       "      <td>NaN</td>\n",
       "      <td>NaN</td>\n",
       "      <td>NaN</td>\n",
       "      <td>NaN</td>\n",
       "      <td>NaN</td>\n",
       "      <td>NaN</td>\n",
       "    </tr>\n",
       "    <tr>\n",
       "      <th>2</th>\n",
       "      <td>11625 Euclid Ave</td>\n",
       "      <td>VUb97h3RTg6InKdfgB49Bw</td>\n",
       "      <td>Cleveland</td>\n",
       "      <td>{u'Monday': u'16:00-0:30', u'Tuesday': u'16:00...</td>\n",
       "      <td>1</td>\n",
       "      <td>41.511107</td>\n",
       "      <td>-81.602625</td>\n",
       "      <td>Happy Dog at the Euclid Tavern</td>\n",
       "      <td></td>\n",
       "      <td>44106.0</td>\n",
       "      <td>...</td>\n",
       "      <td>2.0</td>\n",
       "      <td>5.0</td>\n",
       "      <td>3.0</td>\n",
       "      <td>1.0</td>\n",
       "      <td>1.0</td>\n",
       "      <td>1.0</td>\n",
       "      <td>0.0</td>\n",
       "      <td>0.0</td>\n",
       "      <td>0.0</td>\n",
       "      <td>0.0</td>\n",
       "    </tr>\n",
       "    <tr>\n",
       "      <th>3</th>\n",
       "      <td>7412 Detroit Ave</td>\n",
       "      <td>CtYWpX_cy1YdZgoKtS0Tqg</td>\n",
       "      <td>Cleveland</td>\n",
       "      <td>{u'Monday': u'10:00-0:00', u'Tuesday': u'10:00...</td>\n",
       "      <td>1</td>\n",
       "      <td>41.482782</td>\n",
       "      <td>-81.736226</td>\n",
       "      <td>Happys Pizza</td>\n",
       "      <td>Detroit-Shoreway</td>\n",
       "      <td>44102.0</td>\n",
       "      <td>...</td>\n",
       "      <td>0.0</td>\n",
       "      <td>0.0</td>\n",
       "      <td>0.0</td>\n",
       "      <td>0.0</td>\n",
       "      <td>0.0</td>\n",
       "      <td>0.0</td>\n",
       "      <td>0.0</td>\n",
       "      <td>0.0</td>\n",
       "      <td>0.0</td>\n",
       "      <td>0.0</td>\n",
       "    </tr>\n",
       "    <tr>\n",
       "      <th>4</th>\n",
       "      <td>4645 Northfield Rd</td>\n",
       "      <td>n8GCGa5gX17Ibix5VsGMuw</td>\n",
       "      <td>Cleveland</td>\n",
       "      <td>{u'Monday': u'10:30-23:00', u'Tuesday': u'10:3...</td>\n",
       "      <td>1</td>\n",
       "      <td>41.430684</td>\n",
       "      <td>-81.524946</td>\n",
       "      <td>Popeyes Louisiana Kitchen</td>\n",
       "      <td></td>\n",
       "      <td>44128.0</td>\n",
       "      <td>...</td>\n",
       "      <td>0.0</td>\n",
       "      <td>0.0</td>\n",
       "      <td>0.0</td>\n",
       "      <td>0.0</td>\n",
       "      <td>0.0</td>\n",
       "      <td>0.0</td>\n",
       "      <td>0.0</td>\n",
       "      <td>0.0</td>\n",
       "      <td>0.0</td>\n",
       "      <td>0.0</td>\n",
       "    </tr>\n",
       "  </tbody>\n",
       "</table>\n",
       "<p>5 rows × 871 columns</p>\n",
       "</div>"
      ],
      "text/plain": [
       "              address             business_id       city  \\\n",
       "0      13181 Cedar Rd  Pawavw9U8rjxWVPU-RB7LA  Cleveland   \n",
       "1     728 Richmond Rd  wkhxaIt6S9bQ0twAD9Svpw  Cleveland   \n",
       "2    11625 Euclid Ave  VUb97h3RTg6InKdfgB49Bw  Cleveland   \n",
       "3    7412 Detroit Ave  CtYWpX_cy1YdZgoKtS0Tqg  Cleveland   \n",
       "4  4645 Northfield Rd  n8GCGa5gX17Ibix5VsGMuw  Cleveland   \n",
       "\n",
       "                                               hours  is_open   latitude  \\\n",
       "0  {u'Monday': u'11:30-21:30', u'Tuesday': u'11:3...        1  41.501413   \n",
       "1  {u'Monday': u'11:00-21:00', u'Tuesday': u'11:0...        0  41.540814   \n",
       "2  {u'Monday': u'16:00-0:30', u'Tuesday': u'16:00...        1  41.511107   \n",
       "3  {u'Monday': u'10:00-0:00', u'Tuesday': u'10:00...        1  41.482782   \n",
       "4  {u'Monday': u'10:30-23:00', u'Tuesday': u'10:3...        1  41.430684   \n",
       "\n",
       "   longitude                      BusinessName      neighborhood  postal_code  \\\n",
       "0 -81.565982  Richie Chan's Chinese Restaurant                        44118.0   \n",
       "1 -81.497677            Giuseppes Pizza & Subs                        44143.0   \n",
       "2 -81.602625    Happy Dog at the Euclid Tavern                        44106.0   \n",
       "3 -81.736226                      Happys Pizza  Detroit-Shoreway      44102.0   \n",
       "4 -81.524946         Popeyes Louisiana Kitchen                        44128.0   \n",
       "\n",
       "        ...        Wednesday 22:00  Wednesday 23:00 Wednesday 2:00  \\\n",
       "0       ...                    1.0              0.0            0.0   \n",
       "1       ...                    NaN              NaN            NaN   \n",
       "2       ...                    2.0              5.0            3.0   \n",
       "3       ...                    0.0              0.0            0.0   \n",
       "4       ...                    0.0              0.0            0.0   \n",
       "\n",
       "   Wednesday 3:00  Wednesday 4:00  Wednesday 5:00  Wednesday 6:00  \\\n",
       "0             0.0             0.0             0.0             0.0   \n",
       "1             NaN             NaN             NaN             NaN   \n",
       "2             1.0             1.0             1.0             0.0   \n",
       "3             0.0             0.0             0.0             0.0   \n",
       "4             0.0             0.0             0.0             0.0   \n",
       "\n",
       "   Wednesday 7:00  Wednesday 8:00  Wednesday 9:00  \n",
       "0             0.0             0.0             0.0  \n",
       "1             NaN             NaN             NaN  \n",
       "2             0.0             0.0             0.0  \n",
       "3             0.0             0.0             0.0  \n",
       "4             0.0             0.0             0.0  \n",
       "\n",
       "[5 rows x 871 columns]"
      ]
     },
     "execution_count": 13,
     "metadata": {},
     "output_type": "execute_result"
    }
   ],
   "source": [
    "business_df = business_df.merge(new_checkin_df, left_on='business_id', right_on='business_id', how='left')\n",
    "business_df.head()"
   ]
  },
  {
   "cell_type": "markdown",
   "metadata": {},
   "source": [
    "But not all of the businesses had check-in data. I set missing values to 0 if I had no check-in data for them."
   ]
  },
  {
   "cell_type": "code",
   "execution_count": 14,
   "metadata": {},
   "outputs": [],
   "source": [
    "business_df.iloc[:, 648:] = business_df.iloc[:, 648:].fillna(0)"
   ]
  },
  {
   "cell_type": "markdown",
   "metadata": {},
   "source": [
    "Our final business data looks like this:"
   ]
  },
  {
   "cell_type": "code",
   "execution_count": 15,
   "metadata": {},
   "outputs": [
    {
     "name": "stdout",
     "output_type": "stream",
     "text": [
      "Index([     u'address',  u'business_id',         u'city',        u'hours',\n",
      "            u'is_open',     u'latitude',    u'longitude', u'BusinessName',\n",
      "       u'neighborhood',  u'postal_code', u'review_count',        u'stars',\n",
      "              u'state'],\n",
      "      dtype='object')\n",
      "Index([u'Accessories', u'Active Life', u'Acupuncture', u'Adult',\n",
      "       u'Adult Education', u'Adult Entertainment', u'African',\n",
      "       u'Air Duct Cleaning', u'Airlines', u'Airport Lounges',\n",
      "       ...\n",
      "       u'Wine & Spirits', u'Wine Bars', u'Wine Tasting Room', u'Wine Tours',\n",
      "       u'Wineries', u'Women's Clothing', u'Wraps', u'Yelp Events', u'Yoga',\n",
      "       u'Zoos'],\n",
      "      dtype='object', length=635)\n",
      "Index([               u'BikeParking', u'BusinessAcceptsCreditCards',\n",
      "                           u'Caters',                u'GoodForKids',\n",
      "                            u'HasTV',             u'OutdoorSeating',\n",
      "              u'RestaurantsDelivery',   u'RestaurantsGoodForGroups',\n",
      "           u'RestaurantsPriceRange2',    u'RestaurantsReservations',\n",
      "          u'RestaurantsTableService',         u'RestaurantsTakeOut',\n",
      "             u'WheelchairAccessible',     u'BusinessParking_garage',\n",
      "              u'BusinessParking_lot',     u'BusinessParking_street',\n",
      "            u'BusinessParking_valet',  u'BusinessParking_validated',\n",
      "                  u'Ambience_casual',            u'Ambience_classy',\n",
      "                   u'Ambience_divey',           u'Ambience_hipster',\n",
      "                u'Ambience_intimate',          u'Ambience_romantic',\n",
      "                u'Ambience_touristy',            u'Ambience_trendy',\n",
      "                 u'Ambience_upscale',      u'GoodForMeal_breakfast',\n",
      "               u'GoodForMeal_brunch',        u'GoodForMeal_dessert',\n",
      "               u'GoodForMeal_dinner',      u'GoodForMeal_latenight',\n",
      "                u'GoodForMeal_lunch',         u'AgesAllowed_18plus',\n",
      "               u'AgesAllowed_21plus',        u'AgesAllowed_allages',\n",
      "            u'Alcohol_beer_and_wine',           u'Alcohol_full_bar',\n",
      "                     u'Alcohol_none',             u'BYOBCorkage_no',\n",
      "          u'BYOBCorkage_yes_corkage',       u'BYOBCorkage_yes_free',\n",
      "               u'NoiseLevel_average',            u'NoiseLevel_loud',\n",
      "                 u'NoiseLevel_quiet',       u'NoiseLevel_very_loud',\n",
      "         u'RestaurantsAttire_casual',   u'RestaurantsAttire_dressy',\n",
      "         u'RestaurantsAttire_formal',                 u'Smoking_no',\n",
      "                  u'Smoking_outdoor',                u'Smoking_yes',\n",
      "                        u'WiFi_free',                    u'WiFi_no',\n",
      "                        u'WiFi_paid',                u'Friday 0:00',\n",
      "                     u'Friday 10:00',               u'Friday 11:00',\n",
      "                     u'Friday 12:00',               u'Friday 13:00',\n",
      "                     u'Friday 14:00',               u'Friday 15:00',\n",
      "                     u'Friday 16:00',               u'Friday 17:00',\n",
      "                     u'Friday 18:00',               u'Friday 19:00',\n",
      "                      u'Friday 1:00',               u'Friday 20:00',\n",
      "                     u'Friday 21:00',               u'Friday 22:00',\n",
      "                     u'Friday 23:00',                u'Friday 2:00',\n",
      "                      u'Friday 3:00',                u'Friday 4:00',\n",
      "                      u'Friday 5:00',                u'Friday 6:00',\n",
      "                      u'Friday 7:00',                u'Friday 8:00',\n",
      "                      u'Friday 9:00',                u'Monday 0:00',\n",
      "                     u'Monday 10:00',               u'Monday 11:00',\n",
      "                     u'Monday 12:00',               u'Monday 13:00',\n",
      "                     u'Monday 14:00',               u'Monday 15:00',\n",
      "                     u'Monday 16:00',               u'Monday 17:00',\n",
      "                     u'Monday 18:00'],\n",
      "      dtype='object')\n",
      "Index([u'Monday 19:00', u'Monday 1:00', u'Monday 20:00', u'Monday 21:00',\n",
      "       u'Monday 22:00', u'Monday 23:00', u'Monday 2:00', u'Monday 3:00',\n",
      "       u'Monday 4:00', u'Monday 5:00',\n",
      "       ...\n",
      "       u'Wednesday 22:00', u'Wednesday 23:00', u'Wednesday 2:00',\n",
      "       u'Wednesday 3:00', u'Wednesday 4:00', u'Wednesday 5:00',\n",
      "       u'Wednesday 6:00', u'Wednesday 7:00', u'Wednesday 8:00',\n",
      "       u'Wednesday 9:00'],\n",
      "      dtype='object', length=134)\n"
     ]
    }
   ],
   "source": [
    "basic_cols = business_df.columns[:13]\n",
    "print basic_cols\n",
    "\n",
    "category_cols = business_df.columns[13:648]\n",
    "print category_cols\n",
    "\n",
    "attribute_cols = business_df.columns[648:737]\n",
    "print attribute_cols\n",
    "\n",
    "checkin_cols = business_df.columns[737:]\n",
    "print checkin_cols\n",
    "\n",
    "attribute_checkin_cols = business_df.columns[648:]\n",
    "#business_df.info(verbose=True, null_counts=True)"
   ]
  },
  {
   "cell_type": "markdown",
   "metadata": {},
   "source": [
    "## Exploring the data\n",
    "\n",
    "Let's start by visualizing where our businesses are, colored by neighborhood:"
   ]
  },
  {
   "cell_type": "code",
   "execution_count": 16,
   "metadata": {},
   "outputs": [],
   "source": [
    "import seaborn as sns\n",
    "import matplotlib\n",
    "import matplotlib.pyplot as plt\n",
    "# from mpl_toolkits.basemap import Basemap\n",
    "%matplotlib inline"
   ]
  },
  {
   "cell_type": "code",
   "execution_count": 18,
   "metadata": {},
   "outputs": [
    {
     "ename": "NameError",
     "evalue": "name 'Basemap' is not defined",
     "output_type": "error",
     "traceback": [
      "\u001b[0;31m---------------------------------------------------------------------------\u001b[0m",
      "\u001b[0;31mNameError\u001b[0m                                 Traceback (most recent call last)",
      "\u001b[0;32m<ipython-input-18-eb7d3c86c2af>\u001b[0m in \u001b[0;36m<module>\u001b[0;34m()\u001b[0m\n\u001b[1;32m      7\u001b[0m \u001b[0;34m\u001b[0m\u001b[0m\n\u001b[1;32m      8\u001b[0m \u001b[0;31m# create map\u001b[0m\u001b[0;34m\u001b[0m\u001b[0;34m\u001b[0m\u001b[0m\n\u001b[0;32m----> 9\u001b[0;31m m = Basemap(llcrnrlon=lon_min,\n\u001b[0m\u001b[1;32m     10\u001b[0m             \u001b[0mllcrnrlat\u001b[0m\u001b[0;34m=\u001b[0m\u001b[0mlat_min\u001b[0m\u001b[0;34m,\u001b[0m\u001b[0;34m\u001b[0m\u001b[0m\n\u001b[1;32m     11\u001b[0m             \u001b[0murcrnrlon\u001b[0m\u001b[0;34m=\u001b[0m\u001b[0mlon_max\u001b[0m\u001b[0;34m,\u001b[0m\u001b[0;34m\u001b[0m\u001b[0m\n",
      "\u001b[0;31mNameError\u001b[0m: name 'Basemap' is not defined"
     ]
    }
   ],
   "source": [
    "# decide map range based on min and max latitude/longitudes\n",
    "margin = .01\n",
    "lat_min = min(business_df['latitude'].values) - margin\n",
    "lat_max = max(business_df['latitude'].values) + margin\n",
    "lon_min = min(business_df['longitude'].values) - margin\n",
    "lon_max = max(business_df['longitude'].values) + margin\n",
    "\n",
    "# create map\n",
    "m = Basemap(llcrnrlon=lon_min,\n",
    "            llcrnrlat=lat_min,\n",
    "            urcrnrlon=lon_max,\n",
    "            urcrnrlat=lat_max,\n",
    "            lat_0=(lat_max - lat_min)/2,\n",
    "            lon_0=(lon_max - lon_min)/2,\n",
    "            projection='merc',\n",
    "            resolution='h',\n",
    "            area_thresh=10000.)\n",
    "m.drawcoastlines()\n",
    "m.drawcountries()\n",
    "m.drawstates()\n",
    "m.drawmapboundary(fill_color='#46bcec')\n",
    "m.fillcontinents(color='white', lake_color='#46bcec')\n",
    "lons, lats = m(business_df['longitude'].values, business_df['latitude'].values)\n",
    "\n",
    "# plot points colored by neighborhood\n",
    "#col = business_df['neighborhood'].replace({u'': 'b'})\n",
    "color_labels = business_df['neighborhood'].unique()\n",
    "rgb_values = sns.color_palette(\"Set2\", len(color_labels))\n",
    "color_map = dict(zip(color_labels, rgb_values))\n",
    "m.scatter(lons, lats, marker='o', c=business_df['neighborhood'].map(color_map), zorder=5)\n",
    "plt.show()"
   ]
  },
  {
   "cell_type": "markdown",
   "metadata": {},
   "source": [
    "What does the distribution of star ratings look like?"
   ]
  },
  {
   "cell_type": "code",
   "execution_count": 19,
   "metadata": {},
   "outputs": [
    {
     "data": {
      "image/png": "[encoded data removed]",
      "text/plain": [
       "<matplotlib.figure.Figure at 0x7fcd4f4fac90>"
      ]
     },
     "metadata": {
      "needs_background": "light"
     },
     "output_type": "display_data"
    }
   ],
   "source": [
    "sns.distplot(business_df['stars'], kde=False);"
   ]
  },
  {
   "cell_type": "markdown",
   "metadata": {},
   "source": [
    "Is a business' star rating affected by whether or not it has, for example, free WiFi? It doesn't seem like it:"
   ]
  },
  {
   "cell_type": "code",
   "execution_count": 20,
   "metadata": {},
   "outputs": [
    {
     "data": {
      "image/png": "[encoded data removed]",
      "text/plain": [
       "<matplotlib.figure.Figure at 0x7fcd4f2ab190>"
      ]
     },
     "metadata": {
      "needs_background": "light"
     },
     "output_type": "display_data"
    }
   ],
   "source": [
    "sns.boxplot(x='WiFi_free', y='stars', data=business_df);"
   ]
  },
  {
   "cell_type": "markdown",
   "metadata": {},
   "source": [
    "Let's look at the average star ratings by category for the highest- and lowest-rated business categories (given that they have at least 5 ratings):"
   ]
  },
  {
   "cell_type": "code",
   "execution_count": 21,
   "metadata": {
    "scrolled": true
   },
   "outputs": [
    {
     "data": {
      "image/png": "[encoded data removed]",
      "text/plain": [
       "<matplotlib.figure.Figure at 0x7fcd4d20dd10>"
      ]
     },
     "metadata": {
      "needs_background": "light"
     },
     "output_type": "display_data"
    }
   ],
   "source": [
    "min_ratings = 5\n",
    "cats = business_df.columns[13:648].values  # category columns\n",
    "upper_perc = np.percentile(business_df['stars'], 85)\n",
    "lower_perc = np.percentile(business_df['stars'], 25)\n",
    "cat_names = []\n",
    "cat_means = []\n",
    "for cat in cats:\n",
    "    if business_df[business_df[cat] == 1].stars.value_counts().sum() >= min_ratings:\n",
    "        curr_mean = business_df[business_df[cat] == 1].stars.mean()\n",
    "        if curr_mean >= upper_perc or curr_mean <= lower_perc:\n",
    "            cat_names.append(cat)\n",
    "            cat_means.append(business_df[business_df[cat] == 1].stars.mean())\n",
    "\n",
    "# plot without sorting\n",
    "#ax = sns.barplot(x=cat_means, y=cats[:how_many], color='g')\n",
    "\n",
    "# sort by least to most stars\n",
    "yx = zip(cat_means, cat_names)\n",
    "yx.sort()\n",
    "y_sorted, x_sorted = zip(*yx)\n",
    "\n",
    "fig, ax = plt.subplots()\n",
    "fig.set_size_inches(8, len(cat_means)/4)\n",
    "ax = sns.barplot(x=y_sorted, y=x_sorted, color='g')"
   ]
  },
  {
   "cell_type": "markdown",
   "metadata": {},
   "source": [
    "Let's get some idea of the distribution of ratings for each category:"
   ]
  },
  {
   "cell_type": "code",
   "execution_count": 22,
   "metadata": {},
   "outputs": [
    {
     "data": {
      "image/png": "[encoded data removed]",
      "text/plain": [
       "<matplotlib.figure.Figure at 0x7fcd4d1d2d10>"
      ]
     },
     "metadata": {
      "needs_background": "light"
     },
     "output_type": "display_data"
    }
   ],
   "source": [
    "boxplot_df = pd.DataFrame([])\n",
    "for i, cat in enumerate(cats):\n",
    "    currgroup = business_df[business_df[cat] == 1]\n",
    "    if currgroup.stars.value_counts().sum() >= min_ratings:\n",
    "        if currgroup.stars.mean() >= upper_perc or currgroup.stars.mean() <= lower_perc:\n",
    "            stars_df = pd.DataFrame([])\n",
    "            stars_df['Stars'] = currgroup.stars\n",
    "            stars_df['Category'] = currgroup[cat].name\n",
    "            stars_df['Mean'] = currgroup.stars.mean()\n",
    "            boxplot_df = pd.concat([boxplot_df, stars_df])\n",
    "\n",
    "boxplot_df = boxplot_df.sort_values(['Mean']).reset_index(drop=True)\n",
    "\n",
    "fig, ax = plt.subplots()\n",
    "fig.set_size_inches(8, boxplot_df['Category'].nunique()/4)\n",
    "ax = sns.boxplot(x='Stars', y='Category', data=boxplot_df)"
   ]
  },
  {
   "cell_type": "markdown",
   "metadata": {},
   "source": [
    "Which business attributes correlate most with a business' star rating? There are too many attributes to show the matrix for all of them, but below you can see that bike parking seems to be slightly correlated with star rating."
   ]
  },
  {
   "cell_type": "code",
   "execution_count": 23,
   "metadata": {},
   "outputs": [
    {
     "data": {
      "image/png": "[encoded data removed]",
      "text/plain": [
       "<matplotlib.figure.Figure at 0x7fcd4d1b1dd0>"
      ]
     },
     "metadata": {
      "needs_background": "light"
     },
     "output_type": "display_data"
    }
   ],
   "source": [
    "corr_df = business_df[['stars', 'Alcohol_full_bar', 'Smoking_yes', 'GoodForKids', 'Ambience_romantic', 'BikeParking']]\n",
    "sns.heatmap(corr_df.corr());"
   ]
  },
  {
   "cell_type": "markdown",
   "metadata": {
    "collapsed": true
   },
   "source": [
    "## Predictive Modeling\n",
    "\n",
    "What business attributes predict good ratings? It's probably a different set of attributes for each type of business, so let's choose one business category to work with for now (the one with the most data)."
   ]
  },
  {
   "cell_type": "code",
   "execution_count": 24,
   "metadata": {
    "scrolled": true
   },
   "outputs": [
    {
     "data": {
      "text/plain": [
       "Restaurants               1361\n",
       "Nightlife                  284\n",
       "Bars                       274\n",
       "Food                       244\n",
       "American (Traditional)     226\n",
       "American (New)             185\n",
       "Sandwiches                 182\n",
       "Pizza                      171\n",
       "Fast Food                  131\n",
       "Burgers                    124\n",
       "dtype: int64"
      ]
     },
     "execution_count": 24,
     "metadata": {},
     "output_type": "execute_result"
    }
   ],
   "source": [
    "# find the most represented categories\n",
    "business_df.iloc[:, 13:648].sum().sort_values(ascending=False).head(10)"
   ]
  },
  {
   "cell_type": "markdown",
   "metadata": {},
   "source": [
    "So we'll try to predict which attributes correlate with restaurants' star ratings. This is a regression problem. Let's start with the simplest model, linear regression.\n",
    "\n",
    "### Linear regression"
   ]
  },
  {
   "cell_type": "code",
   "execution_count": 25,
   "metadata": {},
   "outputs": [],
   "source": [
    "from sklearn.linear_model import LinearRegression\n",
    "from sklearn.model_selection import train_test_split\n",
    "from sklearn import metrics"
   ]
  },
  {
   "cell_type": "code",
   "execution_count": 26,
   "metadata": {},
   "outputs": [
    {
     "name": "stdout",
     "output_type": "stream",
     "text": [
      "(1224, 90)\n",
      "(137, 90)\n",
      "Train RMSE:\n",
      "0.7333680580907276\n",
      "Test RMSE:\n",
      "0.7725939547357484\n",
      "\n",
      "3.834499082633869\n",
      "        coef                     feature\n",
      "22  0.363431           Ambience_intimate\n",
      "2   0.331981                      Caters\n",
      "51  0.329419                 Smoking_yes\n",
      "40  0.280557     BYOBCorkage_yes_corkage\n",
      "0   0.238982                 BikeParking\n",
      "47  0.190356    RestaurantsAttire_dressy\n",
      "15  0.173761      BusinessParking_street\n",
      "36  0.146510       Alcohol_beer_and_wine\n",
      "23  0.139662           Ambience_romantic\n",
      "20  0.137730              Ambience_divey\n",
      "32  0.123594           GoodForMeal_lunch\n",
      "49  0.121256                  Smoking_no\n",
      "25  0.104340             Ambience_trendy\n",
      "28  0.082386          GoodForMeal_brunch\n",
      "75  0.066438                 Friday 6:00\n",
      "50  0.056898             Smoking_outdoor\n",
      "80  0.054597                Monday 10:00\n",
      "5   0.050911              OutdoorSeating\n",
      "44  0.048827            NoiseLevel_quiet\n",
      "21  0.046226            Ambience_hipster\n",
      "39  0.046092              BYOBCorkage_no\n",
      "56  0.042312                Friday 10:00\n",
      "74  0.039275                 Friday 5:00\n",
      "77  0.034807                 Friday 8:00\n",
      "89  0.034682                     is_open\n",
      "84  0.032245                Monday 14:00\n",
      "68  0.027773                Friday 21:00\n",
      "8   0.027530      RestaurantsPriceRange2\n",
      "64  0.027270                Friday 18:00\n",
      "46  0.017745    RestaurantsAttire_casual\n",
      "..       ...                         ...\n",
      "87 -0.015350                Monday 17:00\n",
      "85 -0.015546                Monday 15:00\n",
      "30 -0.015916          GoodForMeal_dinner\n",
      "55 -0.017020                 Friday 0:00\n",
      "67 -0.022364                Friday 20:00\n",
      "83 -0.024606                Monday 13:00\n",
      "7  -0.032074    RestaurantsGoodForGroups\n",
      "12 -0.033023        WheelchairAccessible\n",
      "57 -0.037648                Friday 11:00\n",
      "13 -0.059458      BusinessParking_garage\n",
      "53 -0.060709                     WiFi_no\n",
      "76 -0.069204                 Friday 7:00\n",
      "3  -0.072150                 GoodForKids\n",
      "78 -0.072199                 Friday 9:00\n",
      "11 -0.089646          RestaurantsTakeOut\n",
      "29 -0.103231         GoodForMeal_dessert\n",
      "41 -0.112058        BYOBCorkage_yes_free\n",
      "37 -0.167956            Alcohol_full_bar\n",
      "16 -0.174207       BusinessParking_valet\n",
      "6  -0.181065         RestaurantsDelivery\n",
      "54 -0.270993                   WiFi_paid\n",
      "45 -0.302848        NoiseLevel_very_loud\n",
      "31 -0.317897       GoodForMeal_latenight\n",
      "26 -0.341561            Ambience_upscale\n",
      "34 -0.346696          AgesAllowed_21plus\n",
      "43 -0.378483             NoiseLevel_loud\n",
      "17 -0.457514   BusinessParking_validated\n",
      "1  -0.527107  BusinessAcceptsCreditCards\n",
      "24 -0.635229           Ambience_touristy\n",
      "48 -0.928472    RestaurantsAttire_formal\n",
      "\n",
      "[90 rows x 2 columns]\n"
     ]
    },
    {
     "name": "stderr",
     "output_type": "stream",
     "text": [
      "/usr/local/lib/python2.7/dist-packages/ipykernel_launcher.py:5: SettingWithCopyWarning: \n",
      "A value is trying to be set on a copy of a slice from a DataFrame.\n",
      "Try using .loc[row_indexer,col_indexer] = value instead\n",
      "\n",
      "See the caveats in the documentation: http://pandas.pydata.org/pandas-docs/stable/indexing.html#indexing-view-versus-copy\n",
      "  \"\"\"\n"
     ]
    }
   ],
   "source": [
    "# just look at one business category\n",
    "select_df = business_df[business_df['Restaurants'] == 1]\n",
    "# just look at attribute columns\n",
    "model_df = select_df[attribute_cols]  # use just attributes not basic data or check-in columns\n",
    "model_df['is_open'] = business_df['is_open']  # add one basic data column; not sure why this causes error\n",
    "\n",
    "feature_cols = model_df.columns\n",
    "X = model_df\n",
    "y = select_df.stars\n",
    "\n",
    "X_train, X_test, y_train, y_test = train_test_split(X, y, test_size=.1, random_state=1)\n",
    "print X_train.shape\n",
    "print X_test.shape\n",
    "\n",
    "lr = LinearRegression()\n",
    "lr.fit(X_train, y_train)\n",
    "y_pred_train = lr.predict(X_train)\n",
    "print 'Train RMSE:'\n",
    "print np.sqrt(metrics.mean_squared_error(y_train, y_pred_train))\n",
    "\n",
    "y_pred_test = lr.predict(X_test)\n",
    "print 'Test RMSE:'\n",
    "print np.sqrt(metrics.mean_squared_error(y_test, y_pred_test))\n",
    "print ''\n",
    "print lr.intercept_\n",
    "res = pd.DataFrame({'feature': feature_cols, 'coef': lr.coef_})\n",
    "print res.sort_values(by=['coef'], ascending=False)"
   ]
  },
  {
   "cell_type": "markdown",
   "metadata": {},
   "source": [
    "Now let's use cross-validation instead of train-test split for a better estimation of the RMSE:"
   ]
  },
  {
   "cell_type": "code",
   "execution_count": 27,
   "metadata": {},
   "outputs": [],
   "source": [
    "from sklearn.model_selection import KFold, cross_val_score"
   ]
  },
  {
   "cell_type": "code",
   "execution_count": 28,
   "metadata": {},
   "outputs": [
    {
     "name": "stdout",
     "output_type": "stream",
     "text": [
      "10-fold RMSEs:\n",
      "[0.7725939547357488, 0.838453617121416, 0.8124507932531825, 0.7776442412503342, 0.75472490769554, 0.8310252873985758, 0.6999671192699825, 0.7313567733914064, 0.7654240440355323, 0.770702456755632]\n",
      "CV RMSE:\n",
      "0.7765061751872392\n",
      "Std of CV RMSE:\n",
      "0.06315216657086412\n"
     ]
    },
    {
     "name": "stderr",
     "output_type": "stream",
     "text": [
      "/usr/local/lib/python2.7/dist-packages/ipykernel_launcher.py:5: SettingWithCopyWarning: \n",
      "A value is trying to be set on a copy of a slice from a DataFrame.\n",
      "Try using .loc[row_indexer,col_indexer] = value instead\n",
      "\n",
      "See the caveats in the documentation: http://pandas.pydata.org/pandas-docs/stable/indexing.html#indexing-view-versus-copy\n",
      "  \"\"\"\n"
     ]
    }
   ],
   "source": [
    "# just look at one business category\n",
    "select_df = business_df[business_df['Restaurants'] == 1]\n",
    "# just look at attribute columns\n",
    "model_df = select_df[attribute_cols]  # use just attributes not basic data or check-in columns\n",
    "model_df['is_open'] = business_df['is_open']  # add one basic data column; not sure why this causes error\n",
    "\n",
    "feature_cols = model_df.columns\n",
    "X = model_df\n",
    "y = select_df.stars\n",
    "\n",
    "lr = LinearRegression()\n",
    "kfold = KFold(n_splits=10, shuffle=True, random_state=1)\n",
    "cross_val_scores = cross_val_score(lr, X, y, scoring='neg_mean_squared_error', cv=kfold)\n",
    "print '10-fold RMSEs:'\n",
    "print [np.sqrt(-x) for x in cross_val_scores]\n",
    "print 'CV RMSE:'\n",
    "print np.sqrt(-np.mean(cross_val_scores))  # RMSE is the sqrt of the avg of MSEs\n",
    "print 'Std of CV RMSE:'\n",
    "print np.std(cross_val_scores)"
   ]
  },
  {
   "cell_type": "markdown",
   "metadata": {},
   "source": [
    "Would it improve the model to add polynomial features? NO IT'S A DISASTER"
   ]
  },
  {
   "cell_type": "code",
   "execution_count": 29,
   "metadata": {},
   "outputs": [],
   "source": [
    "from sklearn.preprocessing import PolynomialFeatures\n",
    "from sklearn.model_selection import cross_val_predict"
   ]
  },
  {
   "cell_type": "code",
   "execution_count": 30,
   "metadata": {},
   "outputs": [
    {
     "name": "stdout",
     "output_type": "stream",
     "text": [
      "(1361, 90)\n",
      "(1361, 4096)\n",
      "[-2.12211428e+09 -3.21760397e+08  1.01331075e+09  3.98463394e+07\n",
      "  4.42727705e+05 -5.57891624e+08 -7.89609720e+07  3.63403880e+07\n",
      " -3.59473471e+09  2.76016810e+07  2.60702532e+09  2.51956083e+08\n",
      "  6.55492934e+08 -8.21291861e+07 -3.10241329e+10  3.30935800e+07\n",
      "  2.34629987e+09  3.91049742e+08 -9.58458461e+07 -9.32102025e+08]\n",
      "10-fold RMSEs:\n",
      "[22774702239.34447, 1676760670.898416, 5626204125.789233, 10597051648.443043, 3331127929.621622, 5770402331.407884, 694213851.1369182, 3114699091.418643, 3612821726.209397, 3965217464.29194]\n",
      "CV RMSE:\n",
      "8653340019.660643\n",
      "Std of CV RMSE:\n",
      "1.5110595260392627e+20\n"
     ]
    }
   ],
   "source": [
    "pf = PolynomialFeatures(degree=2,interaction_only=True)\n",
    "X_pf = pf.fit_transform(X)  # only apply to attribute columns\n",
    "print X.shape\n",
    "print X_pf.shape\n",
    "\n",
    "lr2 = LinearRegression()\n",
    "kfold = KFold(n_splits=10, shuffle=True, random_state=1)\n",
    "pf_cross_val_scores = cross_val_score(lr2, X_pf, y, scoring='neg_mean_squared_error', cv=kfold)\n",
    "\n",
    "pf_cross_val_predicts = cross_val_predict(lr2, X_pf, y, cv=kfold)\n",
    "print pf_cross_val_predicts[:20]\n",
    "\n",
    "print '10-fold RMSEs:'\n",
    "print [np.sqrt(-x) for x in pf_cross_val_scores]\n",
    "print 'CV RMSE:'\n",
    "print np.sqrt(-np.mean(pf_cross_val_scores))  # RMSE is the sqrt of the avg of MSEs\n",
    "print 'Std of CV RMSE:'\n",
    "print np.std(pf_cross_val_scores)"
   ]
  },
  {
   "cell_type": "markdown",
   "metadata": {},
   "source": [
    "Could this have happened because of overfitting? Let's see if regularization will help. We can use ridge regularization to prevent overfitting."
   ]
  },
  {
   "cell_type": "code",
   "execution_count": 31,
   "metadata": {},
   "outputs": [],
   "source": [
    "from sklearn.linear_model import RidgeCV"
   ]
  },
  {
   "cell_type": "code",
   "execution_count": 32,
   "metadata": {},
   "outputs": [
    {
     "name": "stdout",
     "output_type": "stream",
     "text": [
      "Ridge CV RMSE:\n",
      "0.771575378407307\n",
      "Ridge PF CV RMSE:\n",
      "12.721777922383787\n"
     ]
    }
   ],
   "source": [
    "ridge = RidgeCV(store_cv_values=True)\n",
    "ridge.fit(X, y)\n",
    "\n",
    "ridge_MSEs = ridge.cv_values_\n",
    "print 'Ridge CV RMSE:'\n",
    "print np.sqrt(np.mean(ridge_MSEs))\n",
    "\n",
    "# try on expanded polynomial features\n",
    "ridge_pf = RidgeCV(store_cv_values=True)\n",
    "ridge_pf.fit(X_pf, y)\n",
    "\n",
    "ridge_pf_MSEs = ridge_pf.cv_values_\n",
    "print 'Ridge PF CV RMSE:'\n",
    "print np.sqrt(np.mean(ridge_pf_MSEs))"
   ]
  },
  {
   "cell_type": "markdown",
   "metadata": {
    "collapsed": true
   },
   "source": [
    "### Decision tree regressor\n",
    "\n",
    "We can also see if a decision tree regressor does better at predicting restaurants' star ratings from their business attributes."
   ]
  },
  {
   "cell_type": "code",
   "execution_count": 33,
   "metadata": {},
   "outputs": [],
   "source": [
    "from sklearn.tree import DecisionTreeRegressor\n",
    "from sklearn.externals.six import StringIO\n",
    "from IPython.display import Image\n",
    "import pydotplus\n",
    "from sklearn.tree import export_graphviz"
   ]
  },
  {
   "cell_type": "code",
   "execution_count": 34,
   "metadata": {},
   "outputs": [
    {
     "name": "stdout",
     "output_type": "stream",
     "text": [
      "RMSE:\n",
      "0.8157946414198276\n",
      "\n"
     ]
    }
   ],
   "source": [
    "# use business attributes to predict star rating, same as above\n",
    "rg_X_train, rg_X_test, rg_y_train, rg_y_test = train_test_split(X, y, test_size=.2, random_state=1)\n",
    "features = [x.encode('utf-8') for x in model_df.columns.values]\n",
    "\n",
    "rg = DecisionTreeRegressor(max_depth=3)\n",
    "rg.fit(rg_X_train, rg_y_train)\n",
    "print 'RMSE:'\n",
    "print np.sqrt(metrics.mean_squared_error(rg_y_test, rg.predict(rg_X_test)))\n",
    "print ''\n",
    "\n",
    "# visualize the tree\n",
    "dot_data = StringIO()  \n",
    "export_graphviz(rg, out_file=dot_data,  \n",
    "                    feature_names=features,  \n",
    "                    filled=True, rounded=True,  \n",
    "                    special_characters=True)\n",
    "graph = pydotplus.graph_from_dot_data(dot_data.getvalue())  \n",
    "# Image(graph.create_png())"
   ]
  },
  {
   "cell_type": "code",
   "execution_count": 35,
   "metadata": {},
   "outputs": [
    {
     "data": {
      "text/html": [
       "<div>\n",
       "<style scoped>\n",
       "    .dataframe tbody tr th:only-of-type {\n",
       "        vertical-align: middle;\n",
       "    }\n",
       "\n",
       "    .dataframe tbody tr th {\n",
       "        vertical-align: top;\n",
       "    }\n",
       "\n",
       "    .dataframe thead th {\n",
       "        text-align: right;\n",
       "    }\n",
       "</style>\n",
       "<table border=\"1\" class=\"dataframe\">\n",
       "  <thead>\n",
       "    <tr style=\"text-align: right;\">\n",
       "      <th></th>\n",
       "      <th>feature</th>\n",
       "      <th>importance</th>\n",
       "    </tr>\n",
       "  </thead>\n",
       "  <tbody>\n",
       "    <tr>\n",
       "      <th>0</th>\n",
       "      <td>BikeParking</td>\n",
       "      <td>0.462113</td>\n",
       "    </tr>\n",
       "    <tr>\n",
       "      <th>2</th>\n",
       "      <td>Caters</td>\n",
       "      <td>0.165402</td>\n",
       "    </tr>\n",
       "    <tr>\n",
       "      <th>1</th>\n",
       "      <td>BusinessAcceptsCreditCards</td>\n",
       "      <td>0.127218</td>\n",
       "    </tr>\n",
       "    <tr>\n",
       "      <th>43</th>\n",
       "      <td>NoiseLevel_loud</td>\n",
       "      <td>0.078610</td>\n",
       "    </tr>\n",
       "    <tr>\n",
       "      <th>15</th>\n",
       "      <td>BusinessParking_street</td>\n",
       "      <td>0.065662</td>\n",
       "    </tr>\n",
       "  </tbody>\n",
       "</table>\n",
       "</div>"
      ],
      "text/plain": [
       "                       feature  importance\n",
       "0                  BikeParking    0.462113\n",
       "2                       Caters    0.165402\n",
       "1   BusinessAcceptsCreditCards    0.127218\n",
       "43             NoiseLevel_loud    0.078610\n",
       "15      BusinessParking_street    0.065662"
      ]
     },
     "execution_count": 35,
     "metadata": {},
     "output_type": "execute_result"
    }
   ],
   "source": [
    "# most important features of the decision tree regressor\n",
    "pd.DataFrame({'feature': model_df.columns.values, 'importance': rg.feature_importances_}).sort_values(by='importance', ascending=False).head()"
   ]
  },
  {
   "cell_type": "code",
   "execution_count": 36,
   "metadata": {},
   "outputs": [
    {
     "data": {
      "image/png": "[encoded data removed]",
      "text/plain": [
       "<matplotlib.figure.Figure at 0x7fcd4d0b5550>"
      ]
     },
     "metadata": {
      "needs_background": "light"
     },
     "output_type": "display_data"
    }
   ],
   "source": [
    "depths = range(1,11)\n",
    "train_rmse, test_rmse = [],[]\n",
    "for depth in depths:\n",
    "    decision_tree = DecisionTreeRegressor(max_depth=depth, random_state=1)\n",
    "    decision_tree.fit(rg_X_train, rg_y_train)\n",
    "    curr_train_rmse = np.sqrt(metrics.mean_squared_error(rg_y_train, decision_tree.predict(rg_X_train)))\n",
    "    curr_test_rmse = np.sqrt(metrics.mean_squared_error(rg_y_test, decision_tree.predict(rg_X_test)))\n",
    "    train_rmse.append(curr_train_rmse)\n",
    "    test_rmse.append(curr_test_rmse)\n",
    "sns.mpl.pyplot.plot(depths,train_rmse,label='train_rmse')\n",
    "sns.mpl.pyplot.plot(depths,test_rmse,label='test_rmse')\n",
    "sns.mpl.pyplot.xlabel(\"maximum tree depth\")\n",
    "sns.mpl.pyplot.ylabel(\"rmse - lower is better\")\n",
    "sns.mpl.pyplot.legend();"
   ]
  },
  {
   "cell_type": "markdown",
   "metadata": {},
   "source": [
    "Now let's try it with cross-validation instead of train-test split for a better estimation of the RMSE:"
   ]
  },
  {
   "cell_type": "code",
   "execution_count": 37,
   "metadata": {},
   "outputs": [],
   "source": [
    "from sklearn.tree import DecisionTreeRegressor\n",
    "from sklearn.externals.six import StringIO\n",
    "from IPython.display import Image\n",
    "import pydotplus\n",
    "from sklearn.tree import export_graphviz"
   ]
  },
  {
   "cell_type": "code",
   "execution_count": 38,
   "metadata": {},
   "outputs": [
    {
     "name": "stdout",
     "output_type": "stream",
     "text": [
      "10-fold RMSEs:\n",
      "[0.7756325154553833, 0.8434800787632417, 0.9095965150333384, 0.7994874985936695, 0.7444241362263913, 0.8230611152769288, 0.743793124440679, 0.7556963650190871, 0.7774041952859967, 0.7890040956271194]\n",
      "CV RMSE:\n",
      "0.7976463734500824\n",
      "Std of CV RMSE:\n",
      "0.08010575751366662\n"
     ]
    }
   ],
   "source": [
    "# use business attributes to predict star rating, same as above\n",
    "feature_cols = [x.encode('utf-8') for x in model_df.columns.values]\n",
    "X = model_df\n",
    "y = select_df.stars\n",
    "\n",
    "rg = DecisionTreeRegressor(max_depth=3, max_features=10)\n",
    "kfold = KFold(n_splits=10, shuffle=True, random_state=1)\n",
    "cross_val_scores = cross_val_score(rg, X, y, scoring='neg_mean_squared_error', cv=kfold)\n",
    "print '10-fold RMSEs:'\n",
    "print [np.sqrt(-x) for x in cross_val_scores]\n",
    "print 'CV RMSE:'\n",
    "print np.sqrt(-np.mean(cross_val_scores))  # RMSE is the sqrt of the avg of MSEs\n",
    "print 'Std of CV RMSE:'\n",
    "print np.std(cross_val_scores)\n",
    "\n",
    "# visualize the tree\n",
    "rg.fit(X, y)\n",
    "dot_data = StringIO()\n",
    "export_graphviz(rg, out_file=dot_data,  \n",
    "                    feature_names=feature_cols,  \n",
    "                    filled=True, rounded=True,  \n",
    "                    special_characters=True)\n",
    "graph = pydotplus.graph_from_dot_data(dot_data.getvalue())  \n",
    "# Image(graph.create_png())"
   ]
  },
  {
   "cell_type": "markdown",
   "metadata": {},
   "source": [
    "This isn't better (lower) than our linear regression RMSE of 0.77 or the ridge RMSE of 0.76. Can we improve it by optimizing the parameters of the decision tree regressor model?"
   ]
  },
  {
   "cell_type": "code",
   "execution_count": 39,
   "metadata": {},
   "outputs": [],
   "source": [
    "from sklearn.model_selection import GridSearchCV"
   ]
  },
  {
   "cell_type": "code",
   "execution_count": 40,
   "metadata": {
    "scrolled": false
   },
   "outputs": [
    {
     "name": "stdout",
     "output_type": "stream",
     "text": [
      "Best RMSE and parameters:\n",
      "0.7827575112286399 {'max_features': 0.6, 'max_depth': 3}\n"
     ]
    },
    {
     "data": {
      "image/png": "[encoded data removed]",
      "text/plain": [
       "<matplotlib.figure.Figure at 0x7fcd4d2988d0>"
      ]
     },
     "metadata": {
      "needs_background": "light"
     },
     "output_type": "display_data"
    },
    {
     "data": {
      "image/png": "[encoded data removed]",
      "text/plain": [
       "<matplotlib.figure.Figure at 0x7fcd465cc750>"
      ]
     },
     "metadata": {
      "needs_background": "light"
     },
     "output_type": "display_data"
    }
   ],
   "source": [
    "# grid search to find best parameters\n",
    "rg_grid = DecisionTreeRegressor(random_state=1)\n",
    "max_depth_range = range(1, 11)\n",
    "max_features_range = [x/20.0 for x in range(1, 20)]\n",
    "param_grid = dict(max_depth=max_depth_range, max_features=max_features_range)\n",
    "kfold = KFold(n_splits=10, shuffle=True, random_state=1)\n",
    "grid = GridSearchCV(rg_grid, param_grid, cv=kfold, scoring='neg_mean_squared_error')\n",
    "grid.fit(X, y)\n",
    "#print grid.cv_results_['mean_test_score']\n",
    "tree_model = grid.best_estimator_\n",
    "print 'Best RMSE and parameters:'\n",
    "print np.sqrt(-grid.best_score_), grid.best_params_\n",
    "#for mean, param in zip(grid.cv_results_['mean_test_score'], grid.cv_results_['params']):\n",
    "#    print mean, param\n",
    "\n",
    "scores = np.sqrt([-x for x in grid.cv_results_['mean_test_score']])  # convert to RMSE\n",
    "max_f = [x.values()[0] for x in grid.cv_results_['params']]\n",
    "max_d = [x.values()[1] for x in grid.cv_results_['params']]\n",
    "\n",
    "rg_grid_results = pd.DataFrame({'RMSE': scores,\n",
    "                                'max_features': max_f,\n",
    "                                'max_depth': max_d})\n",
    "\n",
    "# plot the results\n",
    "sns.swarmplot(x='max_features', y='RMSE', data=rg_grid_results)\n",
    "plt.show()\n",
    "f2 = sns.swarmplot(x='max_depth', y='RMSE', data=rg_grid_results)\n",
    "plt.show()"
   ]
  },
  {
   "cell_type": "markdown",
   "metadata": {
    "collapsed": true
   },
   "source": [
    "Let's put it all together and see which models work the best at predicting star rating from business attributes."
   ]
  },
  {
   "cell_type": "code",
   "execution_count": 41,
   "metadata": {},
   "outputs": [],
   "source": [
    "from sklearn.linear_model import LogisticRegression\n",
    "from sklearn.svm import SVR\n",
    "from sklearn.svm import SVC"
   ]
  },
  {
   "cell_type": "code",
   "execution_count": 42,
   "metadata": {},
   "outputs": [
    {
     "name": "stdout",
     "output_type": "stream",
     "text": [
      "  models      RMSE\n",
      "2    SVR  0.774289\n",
      "{'normalize': False}\n",
      "0.7765033079041284\n",
      "{'max_features': 0.5, 'max_depth': 4}\n",
      "0.7852749912174567\n",
      "{'C': 1.0, 'gamma': 0.01}\n",
      "0.7742892719936597\n"
     ]
    },
    {
     "data": {
      "image/png": "[encoded data removed]",
      "text/plain": [
       "<matplotlib.figure.Figure at 0x7fcd4d053b10>"
      ]
     },
     "metadata": {
      "needs_background": "light"
     },
     "output_type": "display_data"
    }
   ],
   "source": [
    "# GridSearch to see if optimizing the parameters will improve (lower) the RMSE\n",
    "reg_models = [('LinReg', LinearRegression(), {'normalize': [True, False]}),\n",
    "              ('DecTreeReg', DecisionTreeRegressor(), {'max_depth': range(2, 10, 2), 'max_features': [0.25, 0.5, 0.75, 1.0]}),\n",
    "              ('SVR', SVR(), {'C': [1e0, 1e1, 1e2, 1e3], 'gamma': np.logspace(-2, 2, 5)})]\n",
    "\n",
    "names = []\n",
    "params = []\n",
    "results = []\n",
    "for name, model, param in reg_models:\n",
    "    kfold = KFold(n_splits=10, shuffle=True, random_state=1)\n",
    "    reg_grid = GridSearchCV(model, param, cv=kfold, scoring='neg_mean_squared_error')\n",
    "    reg_grid.fit(X, y)\n",
    "    # just keep the results using the best parameters\n",
    "    best_model = reg_grid.best_estimator_\n",
    "    names.append(name)\n",
    "    params.append(reg_grid.best_params_)\n",
    "    results.append(np.sqrt(-reg_grid.best_score_))  # convert to RMSE\n",
    "\n",
    "result_df = pd.DataFrame({'models': names, 'results': results})\n",
    "result_df.columns = ['models', 'RMSE']\n",
    "result_df.sort_values(by='RMSE', ascending=False, inplace=True)\n",
    "print result_df.tail(1)\n",
    "\n",
    "# plot results\n",
    "sns.barplot(x='models', y='RMSE', data=result_df);\n",
    "for i in [0,1,2]:\n",
    "    print params[i]\n",
    "    print results[i]"
   ]
  },
  {
   "cell_type": "markdown",
   "metadata": {},
   "source": [
    "It looks like the best regression model for predicting a restaurant's star rating using its business attributes is support vector regression, with a root mean squared error of 0.76 stars."
   ]
  },
  {
   "cell_type": "code",
   "execution_count": 43,
   "metadata": {},
   "outputs": [],
   "source": [
    "#Classification Models\n",
    "names = []\n",
    "params = []\n",
    "results = []\n",
    "from sklearn.neighbors import KNeighborsClassifier"
   ]
  },
  {
   "cell_type": "code",
   "execution_count": 44,
   "metadata": {},
   "outputs": [
    {
     "name": "stdout",
     "output_type": "stream",
     "text": [
      "Accuracy of logistic regression classifier on test set: 0.47\n",
      "50.91844232182219\n",
      "{'penalty': 'l2', 'C': 0.001}\n"
     ]
    }
   ],
   "source": [
    "#Logistic Regression\n",
    "logreg = LogisticRegression()\n",
    "y_new= [round(x) for x in y]\n",
    "#model to train 66% and test 33%\n",
    "X_train, X_test, y_train, y_test = train_test_split(X, y_new, test_size=0.33, random_state=42)\n",
    "# fit the model with data\n",
    "logreg.fit(X_train, y_train)\n",
    "from sklearn import metrics\n",
    "y_pred = logreg.predict(X_test)\n",
    "print('Accuracy of logistic regression classifier on test set: {:.2f}'.format(logreg.score(X_test, y_test)))\n",
    "\n",
    "grid={\"C\":np.logspace(-3,3,7), \"penalty\":[\"l1\",\"l2\"]}# l1 lasso l2 ridge\n",
    "gd_sr = GridSearchCV(estimator=logreg,  \n",
    "                     param_grid=grid,\n",
    "                     scoring='accuracy',\n",
    "                     cv=2,\n",
    "                     n_jobs=-1)\n",
    "gd_sr.fit(X,y_new)\n",
    "results.append(100*gd_sr.best_score_)\n",
    "params.append(gd_sr.best_params_)\n",
    "names.append('logReg')\n",
    "print results[0]\n",
    "print params[0]"
   ]
  },
  {
   "cell_type": "code",
   "execution_count": 45,
   "metadata": {},
   "outputs": [
    {
     "name": "stdout",
     "output_type": "stream",
     "text": [
      "48.05290227773696\n",
      "{'kernel': 'rbf', 'C': 6}\n"
     ]
    }
   ],
   "source": [
    "#SVC\n",
    "grid_param = {'C': [6,10,12], \n",
    "          'kernel': ['linear','rbf']}\n",
    "from sklearn.svm import SVC\n",
    "clf3 = SVC()\n",
    "gd_sr = GridSearchCV(estimator=clf3,  \n",
    "                     param_grid=grid_param,\n",
    "                     scoring='accuracy',\n",
    "                     cv=2,\n",
    "                     n_jobs=-1)\n",
    "gd_sr.fit(X,y_new)\n",
    "results.append(100*gd_sr.best_score_)\n",
    "params.append(gd_sr.best_params_)\n",
    "names.append('SVC')\n",
    "print results[1]\n",
    "print params[1]"
   ]
  },
  {
   "cell_type": "code",
   "execution_count": 46,
   "metadata": {},
   "outputs": [
    {
     "name": "stderr",
     "output_type": "stream",
     "text": [
      "/usr/local/lib/python2.7/dist-packages/sklearn/externals/joblib/parallel.py:547: UserWarning: Multiprocessing-backed parallel loops cannot be nested, setting n_jobs=1\n",
      "  **self._backend_args)\n",
      "/usr/local/lib/python2.7/dist-packages/sklearn/externals/joblib/parallel.py:547: UserWarning: Multiprocessing-backed parallel loops cannot be nested, setting n_jobs=1\n",
      "  **self._backend_args)\n",
      "/usr/local/lib/python2.7/dist-packages/sklearn/externals/joblib/parallel.py:547: UserWarning: Multiprocessing-backed parallel loops cannot be nested, setting n_jobs=1\n",
      "  **self._backend_args)\n",
      "/usr/local/lib/python2.7/dist-packages/sklearn/externals/joblib/parallel.py:547: UserWarning: Multiprocessing-backed parallel loops cannot be nested, setting n_jobs=1\n",
      "  **self._backend_args)\n"
     ]
    },
    {
     "name": "stdout",
     "output_type": "stream",
     "text": [
      "39.67670830271859\n",
      "{'n_neighbors': 3, 'n_jobs': -1, 'weights': 'distance', 'leaf_size': 2, 'algorithm': 'ball_tree'}\n"
     ]
    }
   ],
   "source": [
    "#KNN\n",
    "grid_param = {'n_neighbors':[1,2,3],\n",
    "          'leaf_size':[2,5],\n",
    "          'weights':['uniform', 'distance'],\n",
    "          'algorithm':['auto', 'ball_tree','kd_tree','brute'],\n",
    "          'n_jobs':[-1]}\n",
    "from sklearn.neighbors import KNeighborsClassifier\n",
    "clf1 = KNeighborsClassifier(n_neighbors=3,algorithm='ball_tree')\n",
    "gd_sr = GridSearchCV(estimator=clf1,  \n",
    "                     param_grid=grid_param,\n",
    "                     scoring='accuracy',\n",
    "                     cv=2,\n",
    "                     n_jobs=-1)\n",
    "gd_sr.fit(X,y_new)\n",
    "results.append(100*gd_sr.best_score_)\n",
    "params.append(gd_sr.best_params_)\n",
    "names.append('KNN')\n",
    "print results[2]\n",
    "print params[2]"
   ]
  },
  {
   "cell_type": "code",
   "execution_count": 47,
   "metadata": {},
   "outputs": [
    {
     "name": "stdout",
     "output_type": "stream",
     "text": [
      "   models   accuracy\n",
      "0  logReg  50.918442\n"
     ]
    },
    {
     "data": {
      "image/png": "[encoded data removed]",
      "text/plain": [
       "<matplotlib.figure.Figure at 0x7fcd4d06c2d0>"
      ]
     },
     "metadata": {
      "needs_background": "light"
     },
     "output_type": "display_data"
    }
   ],
   "source": [
    "# GridSearch to see if optimizing the parameters will improve (lower) the RMSE\n",
    "\n",
    "result_df = pd.DataFrame({'models': names, 'results': results})\n",
    "result_df.columns = ['models', 'accuracy']\n",
    "result_df.sort_values(by='accuracy', ascending=True, inplace=True)\n",
    "print result_df.tail(1)\n",
    "\n",
    "# plot results\n",
    "sns.barplot(x='models', y='accuracy', data=result_df);"
   ]
  },
  {
   "cell_type": "code",
   "execution_count": null,
   "metadata": {},
   "outputs": [],
   "source": []
  }
 ],
 "metadata": {
  "kernelspec": {
   "display_name": "Python 2",
   "language": "python",
   "name": "python2"
  },
  "language_info": {
   "codemirror_mode": {
    "name": "ipython",
    "version": 2
   },
   "file_extension": ".py",
   "mimetype": "text/x-python",
   "name": "python",
   "nbconvert_exporter": "python",
   "pygments_lexer": "ipython2",
   "version": "2.7.12"
  }
 },
 "nbformat": 4,
 "nbformat_minor": 1
}
